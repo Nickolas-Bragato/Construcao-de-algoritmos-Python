{
  "cells": [
    {
      "cell_type": "markdown",
      "metadata": {
        "id": "view-in-github",
        "colab_type": "text"
      },
      "source": [
        "<a href=\"https://colab.research.google.com/github/nickolas2805/Construcao-de-algoritmos-Python/blob/main/lista_3_NICKOLAS_055712.ipynb\" target=\"_parent\"><img src=\"https://colab.research.google.com/assets/colab-badge.svg\" alt=\"Open In Colab\"/></a>"
      ]
    },
    {
      "cell_type": "markdown",
      "id": "617da3e8-00ae-4de3-9ad5-9a2c6b845553",
      "metadata": {
        "id": "617da3e8-00ae-4de3-9ad5-9a2c6b845553"
      },
      "source": [
        "# Lista de exercícios\n",
        "\n",
        "## Instruções:\n",
        "\n",
        "1. Salve uma cópia do notebook\n",
        "2. Renomeie o notebook no seguinte formato: lista_2_NOME_RA.ipynb\n",
        "3. Preencha a célula abaixo com suas informações\n",
        "4. Resolva os exercícios\n",
        "5. Compartilhe o notebook com o email: caio.csilva1988@gmail.com \n",
        "\n",
        "Não esqueça de mandar uma mensagem de notificação com o seu nome e turma.\n",
        "\n",
        "Somente serão corrigidos notebooks entregues até o prazo deteminado"
      ]
    },
    {
      "cell_type": "markdown",
      "id": "3e843b0b-a3ee-4ad5-9698-17d3a77281e4",
      "metadata": {
        "id": "3e843b0b-a3ee-4ad5-9698-17d3a77281e4"
      },
      "source": [
        "**Nome:** Nickolas Sponton Pires Bragato\n",
        "\n",
        "**Turma:** Engenharia da Computação\n",
        "\n",
        "**RA:** 055712"
      ]
    },
    {
      "cell_type": "markdown",
      "id": "c3d781dc-27bd-4fbc-9984-5f7e95211845",
      "metadata": {
        "tags": [],
        "id": "c3d781dc-27bd-4fbc-9984-5f7e95211845"
      },
      "source": [
        "## Problema 1: \n",
        "\n",
        "Crie uma função que busca um elemento dentro de uma lista ordenada e retorna o índice desse elemento. Caso o índice não seja encontrado a função deve retornar o valor -1. Essa função precisa estar baseada no algoritmo de busca binária. "
      ]
    },
    {
      "cell_type": "code",
      "execution_count": null,
      "id": "8f387ed1-7bdc-450a-96f7-1ebdb18a9fea",
      "metadata": {
        "id": "8f387ed1-7bdc-450a-96f7-1ebdb18a9fea",
        "colab": {
          "base_uri": "https://localhost:8080/"
        },
        "outputId": "c07541bf-18e6-41e8-94f2-5817c079aefc"
      },
      "outputs": [
        {
          "output_type": "stream",
          "name": "stdout",
          "text": [
            "Buscar: 6\n",
            "O índice do elemento buscado é 5\n"
          ]
        }
      ],
      "source": [
        "def busca_elemento(elemento):\n",
        "\n",
        "  lista = [1,2,3,4,5,6,7,8,9,10]\n",
        "  copia_lista = lista\n",
        "\n",
        "  while len(copia_lista) > 1:\n",
        "    chute = copia_lista[int((len(copia_lista)/2))]\n",
        "    if chute > elemento:\n",
        "      copia_lista = copia_lista[0:copia_lista.index(chute)]\n",
        "    elif chute < elemento:\n",
        "      copia_lista = copia_lista[copia_lista.index(chute):]\n",
        "    elif chute == elemento:\n",
        "      print(\"O índice do elemento buscado é\",lista.index(chute))\n",
        "      break\n",
        "  else:\n",
        "    return -1\n",
        "\n",
        "busca_elemento(elemento = int(input(\"Buscar: \")))"
      ]
    },
    {
      "cell_type": "markdown",
      "id": "d380d4e2-9353-4258-810e-73e251419b68",
      "metadata": {
        "tags": [],
        "id": "d380d4e2-9353-4258-810e-73e251419b68"
      },
      "source": [
        "## Problema 2: \n",
        "Crie uma função que faça da divisão de dois números. Utilize os algoritmos de aproximação e de busca binária para criar essa função."
      ]
    },
    {
      "cell_type": "code",
      "execution_count": null,
      "id": "09b49ed3-4b0f-4a5b-9a48-9a47d272896a",
      "metadata": {
        "id": "09b49ed3-4b0f-4a5b-9a48-9a47d272896a",
        "colab": {
          "base_uri": "https://localhost:8080/"
        },
        "outputId": "2e915c3b-2afa-440f-95fe-ee41d8590cfa"
      },
      "outputs": [
        {
          "output_type": "stream",
          "name": "stdout",
          "text": [
            "Digite o numerador: 10\n",
            "Digite o denominador: 5\n",
            "2.00 é aproximadamente o resultado de 10/5\n"
          ]
        }
      ],
      "source": [
        "def divisao(numerador, denominador):\n",
        "\n",
        "  epsilon = 0.001\n",
        "  minimo = 0\n",
        "\n",
        "  if abs(numerador >= denominador):\n",
        "    maximo = numerador\n",
        "    minimo = 1\n",
        "\n",
        "  elif abs(denominador > numerador) :\n",
        "    maximo = 1\n",
        "\n",
        "  chute = (maximo + minimo)/2.0\n",
        "\n",
        "  while abs((chute * denominador)- numerador) >= epsilon:\n",
        "      if chute * denominador > numerador:\n",
        "        maximo = chute\n",
        "      else:\n",
        "        minimo = chute\n",
        "      chute = (maximo + minimo)/2.0\n",
        "\n",
        "  print(f\"%.2f é aproximadamente o resultado de {numerador}/{denominador}\"% chute)\n",
        "\n",
        "numerador = int(input(\"Digite o numerador: \"))\n",
        "denominador = int(input(\"Digite o denominador: \"))\n",
        "\n",
        "divisao(numerador,denominador)"
      ]
    },
    {
      "cell_type": "markdown",
      "id": "3f6eb300-f228-4316-bbc1-1d0baa2ca3b4",
      "metadata": {
        "id": "3f6eb300-f228-4316-bbc1-1d0baa2ca3b4"
      },
      "source": [
        "## Problema 3:\n",
        "\n",
        "Crie uma função que calcule a raíz quadrada de um número utilizando os algoritmos de aproximação e de busca binária."
      ]
    },
    {
      "cell_type": "code",
      "execution_count": null,
      "id": "dfb4e3d3-c217-40f3-a5b9-698a2289d77a",
      "metadata": {
        "id": "dfb4e3d3-c217-40f3-a5b9-698a2289d77a",
        "colab": {
          "base_uri": "https://localhost:8080/"
        },
        "outputId": "dabdcda2-3dfd-4a86-f1b4-bd049237802f"
      },
      "outputs": [
        {
          "output_type": "stream",
          "name": "stdout",
          "text": [
            "Qual a raiz quadrada de: 4\n",
            "2.00 é aproximadamente a raiz quadrada de 4\n"
          ]
        }
      ],
      "source": [
        "def raiz_quadrada(numero):\n",
        "\n",
        "  epsilon = 0.001\n",
        "  minimo = 0\n",
        "  maximo = numero/2\n",
        "  chute = (maximo + minimo)/2.0\n",
        "  while abs(chute**2 - numero) >= epsilon:\n",
        "      if chute**2 < numero:\n",
        "        minimo = chute\n",
        "      else:\n",
        "        maximo = chute\n",
        "      chute = (maximo + minimo)/2.0\n",
        "  print(f'%.2f é aproximadamente a raiz quadrada de {numero}'% chute)\n",
        "\n",
        "raiz_quadrada(numero = int(input(\"Qual a raiz quadrada de: \")))"
      ]
    },
    {
      "cell_type": "markdown",
      "id": "05f13047-67fa-4235-94f7-7bdfdd7751de",
      "metadata": {
        "id": "05f13047-67fa-4235-94f7-7bdfdd7751de"
      },
      "source": [
        "## Problema 4: \n",
        "\n",
        "Dada uma lista de números inteiros únicos e não ordenados, crie uma função para encontrar todos os pares em que a diferença seja igual a k. Exemplo:\n",
        "\n",
        "__Entrada__\n",
        "\n",
        "``` python\n",
        "\n",
        "[1, 5, 4, -2, 6, 2]\n",
        "k = 3\n",
        "\n",
        "```\n",
        "\n",
        "__Saída__\n",
        "\n",
        "``` python\n",
        "(1, -2)\n",
        "(5, 2)\n",
        "\n",
        "```\n",
        "\n",
        "Use a função de busca binária criada no exercício 1."
      ]
    },
    {
      "cell_type": "code",
      "execution_count": 30,
      "id": "9762440b-e3b1-49d2-ba18-5ee1cd005634",
      "metadata": {
        "id": "9762440b-e3b1-49d2-ba18-5ee1cd005634",
        "outputId": "4f3a5e65-c7cc-4734-c12f-f8d07cb4657c",
        "colab": {
          "base_uri": "https://localhost:8080/"
        }
      },
      "outputs": [
        {
          "output_type": "stream",
          "name": "stdout",
          "text": [
            "Diferença: 3\n",
            "(4, 1)\n",
            "(5, 2)\n",
            "(8, 5)\n",
            "(7, 4)\n",
            "(9, 6)\n",
            "(3, 0)\n",
            "(6, 3)\n",
            "(5, 8)\n"
          ]
        }
      ],
      "source": [
        "def busca_par(elemento):\n",
        "  lista = [1,2,5,4,6,0,7,3,9,8]\n",
        "  for x in lista:\n",
        "    copia_lista = lista\n",
        "    copia_lista = sorted(lista)\n",
        "    while len(copia_lista) > 1:\n",
        "      chute = copia_lista[int((len(copia_lista)/2))]\n",
        "      \n",
        "      if abs(chute - x) == elemento:\n",
        "        print(f\"({chute}, {x})\")\n",
        "        break\n",
        "      elif abs(chute - x) > elemento:\n",
        "        copia_lista = copia_lista[0:copia_lista.index(chute)]      \n",
        "      else: #chute - x < elemento:\n",
        "        copia_lista = copia_lista[copia_lista.index(chute):]\n",
        "\n",
        "busca_par(int(input(\"Diferença: \")))"
      ]
    }
  ],
  "metadata": {
    "kernelspec": {
      "display_name": "Python 3 (ipykernel)",
      "language": "python",
      "name": "python3"
    },
    "language_info": {
      "codemirror_mode": {
        "name": "ipython",
        "version": 3
      },
      "file_extension": ".py",
      "mimetype": "text/x-python",
      "name": "python",
      "nbconvert_exporter": "python",
      "pygments_lexer": "ipython3",
      "version": "3.9.12"
    },
    "colab": {
      "provenance": [],
      "include_colab_link": true
    }
  },
  "nbformat": 4,
  "nbformat_minor": 5
}