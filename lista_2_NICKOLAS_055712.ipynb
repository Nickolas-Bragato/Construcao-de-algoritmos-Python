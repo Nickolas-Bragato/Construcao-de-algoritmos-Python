{
  "cells": [
    {
      "cell_type": "markdown",
      "metadata": {
        "id": "view-in-github",
        "colab_type": "text"
      },
      "source": [
        "<a href=\"https://colab.research.google.com/github/nickolas2805/construcao-de-algoritmos-python/blob/main/lista_2_NICKOLAS_055712.ipynb\" target=\"_parent\"><img src=\"https://colab.research.google.com/assets/colab-badge.svg\" alt=\"Open In Colab\"/></a>"
      ]
    },
    {
      "cell_type": "markdown",
      "id": "617da3e8-00ae-4de3-9ad5-9a2c6b845553",
      "metadata": {
        "id": "617da3e8-00ae-4de3-9ad5-9a2c6b845553"
      },
      "source": [
        "# Lista de exercícios\n",
        "\n",
        "[![Open In Colab](https://colab.research.google.com/assets/colab-badge.svg)](https://colab.research.google.com/github/caio-c-silva/aulas_python_2S2022/blob/main/notebooks_atividades/lista_2.ipynb)\n",
        "\n",
        "## Instruções:\n",
        "\n",
        "1. Salve uma cópia do notebook\n",
        "2. Renomeie o notebook no seguinte formato: lista_2_NOME_RA.ipynb\n",
        "3. Preencha a célula abaixo com suas informações\n",
        "4. Resolva os exercícios\n",
        "5. Compartilhe o notebook com o email: caio.csilva1988@gmail.com \n",
        "\n",
        "Não esqueça de mandar uma mensagem de notificação com o seu nome e turma.\n",
        "\n",
        "Somente serão corrigidos notebooks entregues até o prazo deteminado\n"
      ]
    },
    {
      "cell_type": "markdown",
      "id": "3e843b0b-a3ee-4ad5-9698-17d3a77281e4",
      "metadata": {
        "id": "3e843b0b-a3ee-4ad5-9698-17d3a77281e4"
      },
      "source": [
        "**Nome:** Nickolas Sponton Pires Bragato\n",
        "\n",
        "**Turma:** Engenharia da computação\n",
        "\n",
        "**RA:** 055712"
      ]
    },
    {
      "cell_type": "markdown",
      "id": "c3d781dc-27bd-4fbc-9984-5f7e95211845",
      "metadata": {
        "tags": [],
        "id": "c3d781dc-27bd-4fbc-9984-5f7e95211845"
      },
      "source": [
        "## Problema 1: \n",
        "\n",
        "Você recebe uma lista com números inteiros positivos onde cada número diferente de zero representa uma coluna com largura igual a 1. Imagine que água é derramada sobre as colunas. Escreva um programa que calcule a área da superfície de água que está armazenada entre as colunas.\n",
        "\n",
        "Dica: Você pode precisar usar as funções `max()` e `min()`.\n",
        "\n",
        "O número da lista representa a altura da coluna\n",
        "\n",
        "Colunas uma do lado da outra, onde a água ficar presa que vou calcular os quadrados cheios e devolver o número deles"
      ]
    },
    {
      "cell_type": "code",
      "execution_count": null,
      "id": "c6cf9da1-01fa-4d0d-9e48-a770f12ceb4b",
      "metadata": {
        "id": "c6cf9da1-01fa-4d0d-9e48-a770f12ceb4b",
        "colab": {
          "base_uri": "https://localhost:8080/"
        },
        "outputId": "503b10ac-d38f-4aba-bb06-d738256a44ab"
      },
      "outputs": [
        {
          "output_type": "stream",
          "name": "stdout",
          "text": [
            "A área da superficie que será preenchida com água vai ser de 21\n"
          ]
        }
      ],
      "source": [
        "alturas = [1,10,3,0,0,8]\n",
        "d_max = []\n",
        "e_max = []\n",
        "contador = 0\n",
        "qtd_agua = 0\n",
        "for x in alturas:\n",
        "  max_direita = 0\n",
        "  max_esquerda = 0\n",
        "  contador += 1\n",
        "  for x in alturas[contador:len(alturas):1]:\n",
        "    if max_direita < x:\n",
        "      max_direita = x\n",
        "  d_max.append(max_direita)\n",
        "  alturas.reverse()\n",
        "  for x in alturas[contador:len(alturas):1]:\n",
        "    if max_esquerda < x:\n",
        "      max_esquerda = x\n",
        "  e_max.insert(0,max_esquerda)\n",
        "  alturas.reverse()\n",
        "\n",
        "for x in range(len(alturas)):\n",
        "  if d_max[x] <= e_max[x]:\n",
        "    if d_max[x] > alturas[x]:\n",
        "      qtd_agua += d_max[x] - alturas[x]\n",
        "  else:\n",
        "    if e_max[x] > alturas[x]:\n",
        "      qtd_agua += e_max[x] - alturas[x]\n",
        "\n",
        "print(\"A área da superficie que será preenchida com água vai ser de \" + str(qtd_agua))\n"
      ]
    },
    {
      "cell_type": "markdown",
      "id": "05f13047-67fa-4235-94f7-7bdfdd7751de",
      "metadata": {
        "id": "05f13047-67fa-4235-94f7-7bdfdd7751de"
      },
      "source": [
        "## Problema 2: \n",
        "\n",
        "Crie um programa que define se um número interiro positivo é divisível por 3. **Não é permitido** usar os operadores de divisão (/, //, %)."
      ]
    },
    {
      "cell_type": "code",
      "execution_count": null,
      "id": "8f387ed1-7bdc-450a-96f7-1ebdb18a9fea",
      "metadata": {
        "id": "8f387ed1-7bdc-450a-96f7-1ebdb18a9fea",
        "colab": {
          "base_uri": "https://localhost:8080/"
        },
        "outputId": "fdb39a58-1a71-4977-e08a-379c3f049c8c"
      },
      "outputs": [
        {
          "output_type": "stream",
          "name": "stdout",
          "text": [
            "Digite o número para ser verificado: 77\n",
            "Esse número não é divisível 3\n"
          ]
        }
      ],
      "source": [
        "numero = input(\"Digite o número para ser verificado: \")\n",
        "while int(numero) > 10:\n",
        "  soma=0\n",
        "  for x in range(len(numero)):\n",
        "    soma += int(numero[x])\n",
        "  numero = str(soma)\n",
        "if numero == \"3\" or numero == \"6\" or numero == \"9\":\n",
        "  print(\"Esse número é divisível por 3\")\n",
        "else:\n",
        "  print(\"Esse número não é divisível 3\")\n"
      ]
    },
    {
      "cell_type": "markdown",
      "id": "d380d4e2-9353-4258-810e-73e251419b68",
      "metadata": {
        "tags": [],
        "id": "d380d4e2-9353-4258-810e-73e251419b68"
      },
      "source": [
        "## Problema 3: \n",
        "Você recebe uma lista com números inteiros positivos que representam a quantidade de tempo que uma tarefa demora para ser executada. Apenas uma tarefa pode ser executada por vez, mas as tarefas podem ser executadas em qualquer ordem.\n",
        "\n",
        "O tempo de espera de cada tarefa é definido como a quantidade de tempo que a tarefa precisa esperar antes de sua execução ser iniciada.\n",
        "\n",
        "Escreva um programa que retorna o tempo de espera mínimo para uma lista de atividades."
      ]
    },
    {
      "cell_type": "code",
      "execution_count": null,
      "id": "09b49ed3-4b0f-4a5b-9a48-9a47d272896a",
      "metadata": {
        "id": "09b49ed3-4b0f-4a5b-9a48-9a47d272896a",
        "colab": {
          "base_uri": "https://localhost:8080/"
        },
        "outputId": "b4733d1b-1e1c-44b9-e205-b0d6b5c5e2f8"
      },
      "outputs": [
        {
          "output_type": "execute_result",
          "data": {
            "text/plain": [
              "20"
            ]
          },
          "metadata": {},
          "execution_count": 3
        }
      ],
      "source": [
        "lista = [1,2,3,4,5]\n",
        "listaordenada = sorted(lista)\n",
        "x=0 #usado pra fazer o slicing e parar de acordo com o tamanho da lista\n",
        "tempoespera=0\n",
        "tempototal=0\n",
        "while x < len(listaordenada)-1:\n",
        "  tempoespera += listaordenada[x] #descobre o tempo de espera pra cada um\n",
        "  tempototal += tempoespera #soma o tempo de espera pra cada um em um só lugar\n",
        "  x+=1\n",
        "tempototal"
      ]
    },
    {
      "cell_type": "markdown",
      "id": "3f6eb300-f228-4316-bbc1-1d0baa2ca3b4",
      "metadata": {
        "id": "3f6eb300-f228-4316-bbc1-1d0baa2ca3b4"
      },
      "source": [
        "## Problema 4:\n",
        "\n",
        "Escreva um programa que recebe uma string de letras minúsculas e retorna o índice da primeira letra não repetida.\n",
        "\n",
        "A primeira letra não repetida é a primeira letra da string que ocorre apenas uma vez.\n",
        "\n",
        "Se a string não apresentar nenhuma letra não repetida, o programa deve retornar -1."
      ]
    },
    {
      "cell_type": "code",
      "execution_count": null,
      "id": "dfb4e3d3-c217-40f3-a5b9-698a2289d77a",
      "metadata": {
        "id": "dfb4e3d3-c217-40f3-a5b9-698a2289d77a",
        "colab": {
          "base_uri": "https://localhost:8080/"
        },
        "outputId": "7ef6eb8c-0a42-4dad-ef05-af1f177a49bd"
      },
      "outputs": [
        {
          "output_type": "stream",
          "name": "stdout",
          "text": [
            "Digite uma sequencia de letras:oihuiughigfdtysdszfdxt67\n",
            "0\n"
          ]
        }
      ],
      "source": [
        "str_letras = input(\"Digite uma sequencia de letras:\")\n",
        "for x in str_letras:\n",
        "  busca = str_letras.count(x)\n",
        "  if busca == 1:\n",
        "    print(str_letras.find(x))\n",
        "    break\n",
        "else:\n",
        "  print(-1)"
      ]
    },
    {
      "cell_type": "code",
      "source": [],
      "metadata": {
        "id": "HmZnBVQwagXg"
      },
      "id": "HmZnBVQwagXg",
      "execution_count": null,
      "outputs": []
    }
  ],
  "metadata": {
    "kernelspec": {
      "display_name": "Python 3 (ipykernel)",
      "language": "python",
      "name": "python3"
    },
    "language_info": {
      "codemirror_mode": {
        "name": "ipython",
        "version": 3
      },
      "file_extension": ".py",
      "mimetype": "text/x-python",
      "name": "python",
      "nbconvert_exporter": "python",
      "pygments_lexer": "ipython3",
      "version": "3.9.12"
    },
    "colab": {
      "provenance": [],
      "collapsed_sections": [],
      "include_colab_link": true
    }
  },
  "nbformat": 4,
  "nbformat_minor": 5
}