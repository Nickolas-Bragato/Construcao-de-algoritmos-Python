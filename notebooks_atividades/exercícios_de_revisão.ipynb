{
  "cells": [
    {
      "cell_type": "markdown",
      "id": "ab4df7ce-a8db-446f-a145-538e898e48e5",
      "metadata": {
        "id": "ab4df7ce-a8db-446f-a145-538e898e48e5"
      },
      "source": [
        "## Revisão\n",
        "\n",
        "[![Open In Colab](https://colab.research.google.com/assets/colab-badge.svg)](https://colab.research.google.com/github/caio-c-silva/aulas_python_2S2022/blob/main/notebooks_atividades/exercícios_de_revisão.ipynb)"
      ]
    },
    {
      "cell_type": "markdown",
      "id": "90729985-7111-4518-94c8-48782a57a620",
      "metadata": {
        "id": "90729985-7111-4518-94c8-48782a57a620"
      },
      "source": [
        "Nos primeiros dois anos, um ano canino é igual a 10.5 anos humanos. Depois disso, cada ano do cão equivale a 4 anos humanos.\n",
        "\n",
        "Crie um programa que pergunte ao usuário a idade do cachorro e retorne a idade do cachorro em anos caninos. "
      ]
    },
    {
      "cell_type": "code",
      "execution_count": 9,
      "id": "c33562a5-e3ed-4309-8773-6a3054dba426",
      "metadata": {
        "id": "c33562a5-e3ed-4309-8773-6a3054dba426",
        "outputId": "f5b1d1a9-c2ac-462d-a66e-3dadabdce640",
        "colab": {
          "base_uri": "https://localhost:8080/"
        }
      },
      "outputs": [
        {
          "name": "stdout",
          "output_type": "stream",
          "text": [
            "Digite a idade do seu cachorro: 5\n"
          ]
        },
        {
          "output_type": "execute_result",
          "data": {
            "text/plain": [
              "33.0"
            ]
          },
          "metadata": {},
          "execution_count": 9
        }
      ],
      "source": [
        "idade = int(input(\"Digite a idade do seu cachorro: \"))\n",
        "if idade>2:\n",
        "  anos_caninos = ((idade-2)*4)+2*10.5\n",
        "elif 0<idade<2:\n",
        "  anos_caninos = idade*10.5\n",
        "else:\n",
        "  print(\"Idade inválida\")\n",
        "anos_caninos"
      ]
    },
    {
      "cell_type": "markdown",
      "id": "7d5f280c-03d4-4df6-94a8-b401a3a8a027",
      "metadata": {
        "id": "7d5f280c-03d4-4df6-94a8-b401a3a8a027"
      },
      "source": [
        "Escreva um programa para verificar se um triângulo é equilátero, isósceles ou escaleno. \n",
        "\n",
        "Observação:\n",
        " - Um triângulo equilátero é um triângulo em que os três lados são iguais.\n",
        "\n",
        " - Um triângulo escaleno é um triângulo que tem três lados desiguais.\n",
        "\n",
        " - Um triângulo isósceles é um triângulo com (pelo menos) dois lados iguais."
      ]
    },
    {
      "cell_type": "code",
      "execution_count": null,
      "id": "7c29e9f6-7703-431a-9cdf-a1df8b7cda45",
      "metadata": {
        "id": "7c29e9f6-7703-431a-9cdf-a1df8b7cda45"
      },
      "outputs": [],
      "source": []
    },
    {
      "cell_type": "markdown",
      "id": "fa8bf61c-fb25-4815-b417-d267ccb3e91a",
      "metadata": {
        "id": "fa8bf61c-fb25-4815-b417-d267ccb3e91a"
      },
      "source": [
        "Escreva um programa em criar a tabuada de um número entre 1 e 10 fornecido pelo \n",
        "usuário."
      ]
    },
    {
      "cell_type": "code",
      "execution_count": null,
      "id": "d3516f1f-41d0-4ba9-bae2-74fd96bfd806",
      "metadata": {
        "id": "d3516f1f-41d0-4ba9-bae2-74fd96bfd806"
      },
      "outputs": [],
      "source": []
    },
    {
      "cell_type": "markdown",
      "id": "82818f51-3e11-4a23-83da-2064ab111523",
      "metadata": {
        "id": "82818f51-3e11-4a23-83da-2064ab111523"
      },
      "source": [
        "Sabendo que a função cosseno é dada pela seguinte série:\n",
        "\n",
        "$$1 - \\frac{x^2}{2!} + \\frac{x^4}{4!} - \\frac{x^6}{6!} + {...}   $$\n",
        "\n",
        "Crie um programa que aceita um valor de ângulo fornecido pelo usuário e retorna o cosseno desse ângulo."
      ]
    },
    {
      "cell_type": "code",
      "execution_count": 15,
      "id": "ce3cd169-64f8-42c1-9a72-5c2565e81a2a",
      "metadata": {
        "id": "ce3cd169-64f8-42c1-9a72-5c2565e81a2a",
        "outputId": "92545afa-83d7-461e-f47c-d666a33bc3c1",
        "colab": {
          "base_uri": "https://localhost:8080/"
        }
      },
      "outputs": [
        {
          "name": "stdout",
          "output_type": "stream",
          "text": [
            "Digite o ângulo: 2\n"
          ]
        },
        {
          "output_type": "execute_result",
          "data": {
            "text/plain": [
              "-1.0"
            ]
          },
          "metadata": {},
          "execution_count": 15
        }
      ],
      "source": [
        "angulo = int(input(\"Digite o ângulo: \"))\n",
        "cosseno = 1.0\n",
        "for x in range(2,4,2):\n",
        "  fatorial = 1\n",
        "  for y in range(1,x+1):\n",
        "    fatorial *= y\n",
        "cosseno += (-1*((angulo**x)/fatorial))\n",
        "cosseno"
      ]
    }
  ],
  "metadata": {
    "kernelspec": {
      "display_name": "Python 3 (ipykernel)",
      "language": "python",
      "name": "python3"
    },
    "language_info": {
      "codemirror_mode": {
        "name": "ipython",
        "version": 3
      },
      "file_extension": ".py",
      "mimetype": "text/x-python",
      "name": "python",
      "nbconvert_exporter": "python",
      "pygments_lexer": "ipython3",
      "version": "3.9.12"
    },
    "colab": {
      "provenance": []
    }
  },
  "nbformat": 4,
  "nbformat_minor": 5
}