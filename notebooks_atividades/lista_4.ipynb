{
  "cells": [
    {
      "cell_type": "markdown",
      "metadata": {
        "id": "view-in-github",
        "colab_type": "text"
      },
      "source": [
        "<a href=\"https://colab.research.google.com/github/nickolas2805/Construcao-de-algoritmos-Python/blob/main/notebooks_atividades/lista_4.ipynb\" target=\"_parent\"><img src=\"https://colab.research.google.com/assets/colab-badge.svg\" alt=\"Open In Colab\"/></a>"
      ]
    },
    {
      "cell_type": "markdown",
      "id": "617da3e8-00ae-4de3-9ad5-9a2c6b845553",
      "metadata": {
        "id": "617da3e8-00ae-4de3-9ad5-9a2c6b845553"
      },
      "source": [
        "# Lista de exercícios\n",
        "\n",
        "## Instruções:\n",
        "\n",
        "1. Salve uma cópia do notebook\n",
        "2. Renomeie o notebook no seguinte formato: lista_2_NOME_RA.ipynb\n",
        "3. Preencha a célula abaixo com suas informações\n",
        "4. Resolva os exercícios\n",
        "5. Compartilhe o notebook com o email: caio.csilva1988@gmail.com \n",
        "\n",
        "Não esqueça de mandar uma mensagem de notificação com o seu nome e turma.\n",
        "\n",
        "Somente serão corrigidos notebooks entregues até o prazo deteminado"
      ]
    },
    {
      "cell_type": "markdown",
      "id": "3e843b0b-a3ee-4ad5-9698-17d3a77281e4",
      "metadata": {
        "id": "3e843b0b-a3ee-4ad5-9698-17d3a77281e4"
      },
      "source": [
        "**Nome:** Nickolas Soonton Pires Bragato\n",
        "\n",
        "**Turma:** Engenharia da Computação\n",
        "\n",
        "**RA:** 055712"
      ]
    },
    {
      "cell_type": "markdown",
      "id": "c3d781dc-27bd-4fbc-9984-5f7e95211845",
      "metadata": {
        "tags": [],
        "id": "c3d781dc-27bd-4fbc-9984-5f7e95211845"
      },
      "source": [
        "## Problema 1: \n",
        "\n",
        "Crie uma função recursiva para calcular a soma de uma lista de números."
      ]
    },
    {
      "cell_type": "code",
      "execution_count": 28,
      "id": "8f387ed1-7bdc-450a-96f7-1ebdb18a9fea",
      "metadata": {
        "id": "8f387ed1-7bdc-450a-96f7-1ebdb18a9fea",
        "colab": {
          "base_uri": "https://localhost:8080/"
        },
        "outputId": "a5e4aed8-1492-4484-916b-3f82b02b915a"
      },
      "outputs": [
        {
          "output_type": "execute_result",
          "data": {
            "text/plain": [
              "15"
            ]
          },
          "metadata": {},
          "execution_count": 28
        }
      ],
      "source": [
        "def soma_lista(lista):\n",
        "    if len(lista) == 1:\n",
        "        return lista[0]\n",
        "    else:\n",
        "        return lista[0] + soma_lista(lista[1:])\n",
        "\n",
        "soma_lista([1,2,3,4,5])"
      ]
    },
    {
      "cell_type": "markdown",
      "id": "d380d4e2-9353-4258-810e-73e251419b68",
      "metadata": {
        "tags": [],
        "id": "d380d4e2-9353-4258-810e-73e251419b68"
      },
      "source": [
        "## Problema 2: \n",
        "Crie uma função recursiva para obter o fatorial de um número inteiro não negativo."
      ]
    },
    {
      "cell_type": "code",
      "execution_count": 24,
      "id": "09b49ed3-4b0f-4a5b-9a48-9a47d272896a",
      "metadata": {
        "id": "09b49ed3-4b0f-4a5b-9a48-9a47d272896a",
        "colab": {
          "base_uri": "https://localhost:8080/"
        },
        "outputId": "6a736195-6d8f-49f1-87bc-63aa93d3809d"
      },
      "outputs": [
        {
          "name": "stdout",
          "output_type": "stream",
          "text": [
            "Digite o número para obter seu fatorial:4\n"
          ]
        },
        {
          "output_type": "execute_result",
          "data": {
            "text/plain": [
              "24"
            ]
          },
          "metadata": {},
          "execution_count": 24
        }
      ],
      "source": [
        "def fatorial(n):\n",
        "  if n<=1:\n",
        "     return 1\n",
        "  else:\n",
        "    return n*fatorial (n-1)\n",
        "\n",
        "fatorial(int(input(\"Digite o número para obter seu fatorial:\")))"
      ]
    },
    {
      "cell_type": "markdown",
      "id": "3f6eb300-f228-4316-bbc1-1d0baa2ca3b4",
      "metadata": {
        "id": "3f6eb300-f228-4316-bbc1-1d0baa2ca3b4"
      },
      "source": [
        "## Problema 3:\n",
        "\n",
        "Crie uma função recursiva para resolver a sequência de Fibonacci."
      ]
    },
    {
      "cell_type": "code",
      "execution_count": 15,
      "id": "dfb4e3d3-c217-40f3-a5b9-698a2289d77a",
      "metadata": {
        "id": "dfb4e3d3-c217-40f3-a5b9-698a2289d77a",
        "colab": {
          "base_uri": "https://localhost:8080/"
        },
        "outputId": "9a17d842-9e45-4e5e-d242-d961b0fd897d"
      },
      "outputs": [
        {
          "name": "stdout",
          "output_type": "stream",
          "text": [
            "Digite a posição do elemento: 3\n"
          ]
        },
        {
          "output_type": "execute_result",
          "data": {
            "text/plain": [
              "2"
            ]
          },
          "metadata": {},
          "execution_count": 15
        }
      ],
      "source": [
        "def fibonacci(n):\n",
        "     if n <= 1:\n",
        "         return n\n",
        "     else:\n",
        "       return fibonacci(n-1) + fibonacci(n-2)\n",
        "fibonacci(int(input(\"Digite a posição do elemento: \")))"
      ]
    },
    {
      "cell_type": "markdown",
      "id": "05f13047-67fa-4235-94f7-7bdfdd7751de",
      "metadata": {
        "id": "05f13047-67fa-4235-94f7-7bdfdd7751de"
      },
      "source": [
        "## Problema 4: \n",
        "\n",
        "Crie uma função recursiva para calcular a soma dos dígitos de um número inteiro positivo."
      ]
    },
    {
      "cell_type": "code",
      "execution_count": 21,
      "id": "9762440b-e3b1-49d2-ba18-5ee1cd005634",
      "metadata": {
        "id": "9762440b-e3b1-49d2-ba18-5ee1cd005634",
        "colab": {
          "base_uri": "https://localhost:8080/"
        },
        "outputId": "e0d1d0a2-a8cd-473c-ffaf-ea56e90baf72"
      },
      "outputs": [
        {
          "output_type": "stream",
          "name": "stdout",
          "text": [
            "Digite um número inteiro positivo:4321\n",
            "10\n"
          ]
        }
      ],
      "source": [
        "def soma_digitos(n):\n",
        "    if n == 0:\n",
        "        return 0\n",
        "    else:\n",
        "        return (n % 10) + soma_digitos(n // 10)\n",
        "\n",
        "print(soma_digitos(int(input(\"Digite um número inteiro positivo:\"))))"
      ]
    },
    {
      "cell_type": "markdown",
      "id": "ee27bfee-d3bb-45fe-ac12-659f2ad9a1dc",
      "metadata": {
        "id": "ee27bfee-d3bb-45fe-ac12-659f2ad9a1dc"
      },
      "source": [
        "## Problema 5:\n",
        "\n",
        "Crie uma função recursiva que busca um elemento dentro de uma lista ordenada e retorna o índice desse elemento. Caso o índice não seja encontrado a função deve retornar o valor -1. Essa função precisa estar baseada no algoritmo de busca binária."
      ]
    },
    {
      "cell_type": "code",
      "execution_count": null,
      "id": "8c653176-e0a3-445b-a259-945d3d32fefb",
      "metadata": {
        "id": "8c653176-e0a3-445b-a259-945d3d32fefb"
      },
      "outputs": [],
      "source": []
    }
  ],
  "metadata": {
    "kernelspec": {
      "display_name": "Python 3 (ipykernel)",
      "language": "python",
      "name": "python3"
    },
    "language_info": {
      "codemirror_mode": {
        "name": "ipython",
        "version": 3
      },
      "file_extension": ".py",
      "mimetype": "text/x-python",
      "name": "python",
      "nbconvert_exporter": "python",
      "pygments_lexer": "ipython3",
      "version": "3.9.12"
    },
    "colab": {
      "provenance": [],
      "include_colab_link": true
    }
  },
  "nbformat": 4,
  "nbformat_minor": 5
}