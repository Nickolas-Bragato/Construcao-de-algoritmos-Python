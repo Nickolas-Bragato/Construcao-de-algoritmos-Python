{
  "cells": [
    {
      "cell_type": "markdown",
      "metadata": {
        "id": "view-in-github",
        "colab_type": "text"
      },
      "source": [
        "<a href=\"https://colab.research.google.com/github/nickolas2805/construcao-de-algoritmos-python/blob/main/lista_1_Nickolas_055712.ipynb\" target=\"_parent\"><img src=\"https://colab.research.google.com/assets/colab-badge.svg\" alt=\"Open In Colab\"/></a>"
      ]
    },
    {
      "cell_type": "markdown",
      "id": "617da3e8-00ae-4de3-9ad5-9a2c6b845553",
      "metadata": {
        "id": "617da3e8-00ae-4de3-9ad5-9a2c6b845553"
      },
      "source": [
        "# Lista de exercícios\n",
        "\n",
        "\n",
        "## Instruções:\n",
        "\n",
        "1. Salve uma cópia do notebook\n",
        "2. Renomeie o notebook no seguinte formato: lista_1_NOME_RA.ipynb\n",
        "3. Preencha a célula abaixo com suas informações\n",
        "4. Resolva os exercícios\n",
        "5. Compartilhe o notebook com o email: caio.csilva1988@gmail.com \n",
        "\n",
        "Não esqueça de mandar uma mensagem de notificação com o seu nome e turma.\n",
        "\n",
        "Somente serão corrigidos notebooks entregues até o prazo deteminado"
      ]
    },
    {
      "cell_type": "markdown",
      "id": "3e843b0b-a3ee-4ad5-9698-17d3a77281e4",
      "metadata": {
        "id": "3e843b0b-a3ee-4ad5-9698-17d3a77281e4"
      },
      "source": [
        "**Nome:**Nickolas Sponton Pires Bragato\n",
        "\n",
        "**Turma:**EC\n",
        "\n",
        "**RA:**055712"
      ]
    },
    {
      "cell_type": "markdown",
      "id": "c3d781dc-27bd-4fbc-9984-5f7e95211845",
      "metadata": {
        "tags": [],
        "id": "c3d781dc-27bd-4fbc-9984-5f7e95211845"
      },
      "source": [
        "## Problema 1: \n",
        "\n",
        "Crie um programa que, baseado na idade do usuário, indica se este pode votar na eleição de 2022 e se o voto é facultativo ou obrigatório."
      ]
    },
    {
      "cell_type": "code",
      "execution_count": null,
      "id": "74def5ef-3384-4b18-a8db-c3e79ea36ba8",
      "metadata": {
        "id": "74def5ef-3384-4b18-a8db-c3e79ea36ba8",
        "colab": {
          "base_uri": "https://localhost:8080/"
        },
        "outputId": "344e6666-53dc-4b21-8055-b5e120ea95dd"
      },
      "outputs": [
        {
          "output_type": "stream",
          "name": "stdout",
          "text": [
            "Digite a idade para a verificação: 1\n",
            "Essa pessoa não pode votar\n",
            "idade inválida\n"
          ]
        }
      ],
      "source": [
        "idade = int(input(\"Digite a idade para a verificação: \"))\n",
        "\n",
        "if 17 < idade < 70:\n",
        "  print(\"Essa pessoa deve votar\\nvoto obrigatório\")\n",
        "elif 15 < idade < 18 or idade > 69:\n",
        "  print(\"Essa pessoa pode votar,\\nvoto facultativo\")\n",
        "else:\n",
        "  print(\"Essa pessoa não pode votar\\nidade inválida\")"
      ]
    },
    {
      "cell_type": "markdown",
      "id": "05f13047-67fa-4235-94f7-7bdfdd7751de",
      "metadata": {
        "id": "05f13047-67fa-4235-94f7-7bdfdd7751de"
      },
      "source": [
        "## Problema 2: \n",
        "\n",
        "Crie um programa que retorne o útimo dígito de qualquer número inteiro (**Dica:** Use uma das 3 formas de divisão que existem em Python)"
      ]
    },
    {
      "cell_type": "code",
      "execution_count": null,
      "id": "8f387ed1-7bdc-450a-96f7-1ebdb18a9fea",
      "metadata": {
        "id": "8f387ed1-7bdc-450a-96f7-1ebdb18a9fea",
        "colab": {
          "base_uri": "https://localhost:8080/"
        },
        "outputId": "c05b0850-da52-453d-8e2c-8a84866fe964"
      },
      "outputs": [
        {
          "name": "stdout",
          "output_type": "stream",
          "text": [
            "Digite um número: 698\n"
          ]
        },
        {
          "output_type": "execute_result",
          "data": {
            "text/plain": [
              "8"
            ]
          },
          "metadata": {},
          "execution_count": 12
        }
      ],
      "source": [
        "numero = int(input(\"Digite um número: \"))\n",
        "numero %= 10\n",
        "numero"
      ]
    },
    {
      "cell_type": "markdown",
      "id": "d380d4e2-9353-4258-810e-73e251419b68",
      "metadata": {
        "tags": [],
        "id": "d380d4e2-9353-4258-810e-73e251419b68"
      },
      "source": [
        "## Problema 3: \n",
        "Escreva um programa para encontrar o maior número de três números fornecidos pelo usuário."
      ]
    },
    {
      "cell_type": "code",
      "execution_count": null,
      "id": "09b49ed3-4b0f-4a5b-9a48-9a47d272896a",
      "metadata": {
        "id": "09b49ed3-4b0f-4a5b-9a48-9a47d272896a",
        "colab": {
          "base_uri": "https://localhost:8080/"
        },
        "outputId": "9ec54532-99f8-4b25-e30b-e8fb140e18d5"
      },
      "outputs": [
        {
          "output_type": "stream",
          "name": "stdout",
          "text": [
            "Forneça três números diferentes\n",
            "Digite o primeiro número: 1\n",
            "Digite o segundo número: 3\n",
            "Digite o terceiro número: 4\n",
            "\n",
            "O terceiro número é o maior\n"
          ]
        }
      ],
      "source": [
        "print(\"Forneça três números diferentes\")\n",
        "numero1 = int(input(\"Digite o primeiro número: \"))\n",
        "numero2 = int(input(\"Digite o segundo número: \"))\n",
        "numero3 = int(input(\"Digite o terceiro número: \"))\n",
        "if numero2 < numero1 > numero3:\n",
        "  print(\"\\nO primeiro número é o maior\")\n",
        "elif numero3 < numero2 > numero1:\n",
        "  print(\"\\nO segundo número é o maior\")\n",
        "elif numero1 < numero3 > numero2:\n",
        "  print(\"\\nO terceiro número é o maior\")\n",
        "else:\n",
        "  print(\"\\nNúmeros inválidos ou iguais\")"
      ]
    },
    {
      "cell_type": "markdown",
      "id": "3f6eb300-f228-4316-bbc1-1d0baa2ca3b4",
      "metadata": {
        "id": "3f6eb300-f228-4316-bbc1-1d0baa2ca3b4"
      },
      "source": [
        "## Problema 4:\n",
        "\n",
        "Escreva um programa que receba a temperatura em graus Celsius da água e verifica em qual estado de fase a água se encontra (considere a pressão ambiente ao nível do mar)"
      ]
    },
    {
      "cell_type": "code",
      "execution_count": null,
      "id": "dfb4e3d3-c217-40f3-a5b9-698a2289d77a",
      "metadata": {
        "id": "dfb4e3d3-c217-40f3-a5b9-698a2289d77a",
        "colab": {
          "base_uri": "https://localhost:8080/"
        },
        "outputId": "bba58a4b-9c33-4a81-d248-9d2c458b32c7"
      },
      "outputs": [
        {
          "output_type": "stream",
          "name": "stdout",
          "text": [
            "Digite a temperatura da água: 0\n",
            "A água está no estado sólido\n"
          ]
        }
      ],
      "source": [
        "temperatura = int(input(\"Digite a temperatura da água: \"))\n",
        "if temperatura >= 100:\n",
        "  print(\"A água está no estado gasoso\")\n",
        "elif temperatura <= 0:\n",
        "  print(\"A água está no estado sólido\")\n",
        "else:\n",
        "  print(\"A água está no estado líquido\")"
      ]
    },
    {
      "cell_type": "markdown",
      "id": "13c52ed7-3b7d-436a-a3dd-053d1980f7c8",
      "metadata": {
        "id": "13c52ed7-3b7d-436a-a3dd-053d1980f7c8"
      },
      "source": [
        "## Problema 5\n",
        "\n",
        "Escreva um programa para verificar se um caractere é vogal ou não."
      ]
    },
    {
      "cell_type": "code",
      "execution_count": null,
      "id": "6be54961-7196-4674-b5ff-9a028eff7db4",
      "metadata": {
        "id": "6be54961-7196-4674-b5ff-9a028eff7db4",
        "colab": {
          "base_uri": "https://localhost:8080/"
        },
        "outputId": "4c57ec82-9819-4c4f-ab92-263341e36d58"
      },
      "outputs": [
        {
          "output_type": "stream",
          "name": "stdout",
          "text": [
            "Digite um caractere: oas\n",
            "O caractere digitado não é uma vogal\n"
          ]
        }
      ],
      "source": [
        "letra = input(\"Digite um caractere: \")\n",
        "if letra == \"a\" or letra == \"e\" or letra == \"i\" or letra == \"o\" or letra == \"u\":\n",
        "  print(\"O caractere digitado é uma vogal\")\n",
        "else:\n",
        "  print(\"O caractere digitado não é uma vogal\")"
      ]
    },
    {
      "cell_type": "markdown",
      "id": "4d9d6a98-5a06-485d-a45e-d5cd142f2919",
      "metadata": {
        "id": "4d9d6a98-5a06-485d-a45e-d5cd142f2919"
      },
      "source": [
        "## Problema 6\n",
        "\n",
        "Uma empresa decidiu conceder bônus ao funcionário de acordo com os seguintes critérios:\n",
        "\n",
        "| Periodo de Tempo de Serviço       | Bonus                                     |\n",
        "|-----------------------------------|--------------------------------------------|\n",
        "| Mais de 10 anos | 10%   |\n",
        "| entre 6 e 10 anos (inclusos) | 8%         |\n",
        "| menos de 6 anos  | 5%             |\n",
        "\n",
        "\n",
        "Pergunte ao usuário seu salário e anos de serviço e imprima o valor líquido do bônus."
      ]
    },
    {
      "cell_type": "code",
      "execution_count": 29,
      "id": "f661214b-7f94-479d-bc56-f713b7972f87",
      "metadata": {
        "id": "f661214b-7f94-479d-bc56-f713b7972f87",
        "outputId": "d204b848-c1ab-4a34-eeb5-2cac519ff99c",
        "colab": {
          "base_uri": "https://localhost:8080/"
        }
      },
      "outputs": [
        {
          "output_type": "stream",
          "name": "stdout",
          "text": [
            "Digite seu salário: 1000\n",
            "Digite seus anos de serviço: 0\n",
            "Valores inválidos\n"
          ]
        }
      ],
      "source": [
        "salario = float(input(\"Digite seu salário: \"))\n",
        "servico = int(input(\"Digite seus anos de serviço: \"))\n",
        "\n",
        "if 6 <= servico <= 10:\n",
        "  bonus = salario * 0.08\n",
        "  print(\"O bônus líquido será de R$ %.2f\" % (bonus))\n",
        "elif 0 < servico < 6:\n",
        "  bonus = salario * 0.05\n",
        "  print(\"O bônus líquido será de R$ %.2f\" % (bonus))\n",
        "elif servico > 10:\n",
        "  bonus = salario * 0.1\n",
        "  print(\"O bônus líquido será de R$ %.2f\" % (bonus))\n",
        "else:\n",
        "  print(\"Valores inválidos\")"
      ]
    },
    {
      "cell_type": "markdown",
      "id": "1e6e1646-051b-41b6-a970-8bfd076f8085",
      "metadata": {
        "id": "1e6e1646-051b-41b6-a970-8bfd076f8085"
      },
      "source": [
        "## Problema 7\n",
        "\n",
        "Escreva um programa que aceite dois números e operadores matemáticos e execute a operação de acordo.\n",
        "\n",
        "Exemplo:\n",
        "\n",
        "Digite o primeiro número: 7\n",
        "\n",
        "Digite o segundo número: 9\n",
        "\n",
        "Digite o operador: +\n",
        "\n",
        "Sua resposta é: 16"
      ]
    },
    {
      "cell_type": "code",
      "execution_count": 35,
      "id": "0431e652-57a9-490b-be97-a893c0b87245",
      "metadata": {
        "id": "0431e652-57a9-490b-be97-a893c0b87245",
        "outputId": "56df63a3-3b46-42e2-8f5e-749142ff302f",
        "colab": {
          "base_uri": "https://localhost:8080/"
        }
      },
      "outputs": [
        {
          "output_type": "stream",
          "name": "stdout",
          "text": [
            "Digite o primeiro número: 10\n",
            "Digite o operador: %\n",
            "Digite o segundo número: 2\n",
            "Operador inválido\n"
          ]
        }
      ],
      "source": [
        "numero1 = float(input(\"Digite o primeiro número: \"))\n",
        "operador = input(\"Digite o operador: \")\n",
        "numero2 = float(input(\"Digite o segundo número: \"))\n",
        "\n",
        "if operador == \"+\":\n",
        "  print(\"Sua resposta é: %.2f\" % (numero1+numero2))\n",
        "elif operador == \"-\":\n",
        "  print(\"Sua resposta é: %.2f\" % (numero1-numero2))\n",
        "elif operador == \"*\":\n",
        "  print(\"Sua resposta é: %.2f\" % (numero1*numero2))\n",
        "elif operador == \"/\":\n",
        "  print(\"Sua resposta é: %.2f\" % (numero1/numero2))\n",
        "else:\n",
        "  print(\"Operador inválido\")\n"
      ]
    },
    {
      "cell_type": "markdown",
      "id": "45cb130e-0428-4c08-882e-b777de37a98c",
      "metadata": {
        "id": "45cb130e-0428-4c08-882e-b777de37a98c"
      },
      "source": [
        "## Problema 8:\n",
        "\n",
        "Escreva um programa para jogar jokenpô com o computador."
      ]
    },
    {
      "cell_type": "code",
      "execution_count": 80,
      "id": "70f059db-570c-49a6-a891-ea0a0521e24a",
      "metadata": {
        "id": "70f059db-570c-49a6-a891-ea0a0521e24a",
        "outputId": "7d24d07e-3ce6-45bc-d391-29015227fe20",
        "colab": {
          "base_uri": "https://localhost:8080/"
        }
      },
      "outputs": [
        {
          "output_type": "stream",
          "name": "stdout",
          "text": [
            "Digite a sua escolha: pedra\n",
            "Escolha do computador: tesoura\n",
            "Escolha do humano: pedra\n",
            "Humano ganhou\n"
          ]
        }
      ],
      "source": [
        "import random\n",
        "\n",
        "opcoes = ['papel', 'pedra', 'tesoura']\n",
        "\n",
        "escolha_computador = random.choice(opcoes)\n",
        "\n",
        "escolha_humano = input(\"Digite a sua escolha: \")\n",
        "\n",
        "if escolha_computador == \"papel\" and escolha_humano == \"pedra\" or escolha_computador == \"pedra\" and escolha_humano == \"tesoura\" or escolha_computador == \"tesoura\" and escolha_humano == \"papel\":\n",
        "  print(\"Escolha do computador:\", escolha_computador)\n",
        "  print(\"Escolha do humano:\", escolha_humano)\n",
        "  print(\"Computador ganhou\")\n",
        "elif escolha_computador == escolha_humano:\n",
        "  print(\"Escolha do computador:\", escolha_computador)\n",
        "  print(\"Escolha do humano:\", escolha_humano)\n",
        "  print(\"Houve um empate\")\n",
        "elif escolha_humano != \"papel\" and escolha_humano != \"tesoura\" and escolha_humano != \"pedra\":\n",
        "  print(\"Escolha do humano:\", escolha_humano)\n",
        "  print(\"\\nOpção inválida\\nDigite uma das seguintes opções:\\n\\\"pedra\\\", \\\"papel\\\", \\\"tesoura\\\"\")\n",
        "else:\n",
        "  print(\"Escolha do computador:\", escolha_computador)\n",
        "  print(\"Escolha do humano:\", escolha_humano)\n",
        "  print(\"Humano ganhou\")"
      ]
    },
    {
      "cell_type": "code",
      "execution_count": null,
      "id": "c381fe6c-c476-409f-b448-6868655c6f42",
      "metadata": {
        "id": "c381fe6c-c476-409f-b448-6868655c6f42"
      },
      "outputs": [],
      "source": [
        ""
      ]
    }
  ],
  "metadata": {
    "kernelspec": {
      "display_name": "Python 3 (ipykernel)",
      "language": "python",
      "name": "python3"
    },
    "language_info": {
      "codemirror_mode": {
        "name": "ipython",
        "version": 3
      },
      "file_extension": ".py",
      "mimetype": "text/x-python",
      "name": "python",
      "nbconvert_exporter": "python",
      "pygments_lexer": "ipython3",
      "version": "3.9.12"
    },
    "colab": {
      "name": "lista_1_Nickolas_055712.ipynb",
      "provenance": [],
      "include_colab_link": true
    }
  },
  "nbformat": 4,
  "nbformat_minor": 5
}