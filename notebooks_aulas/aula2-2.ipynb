{
  "cells": [
    {
      "cell_type": "markdown",
      "id": "56c3b55b-14d5-4ea4-acbb-077669ab27fb",
      "metadata": {
        "id": "56c3b55b-14d5-4ea4-acbb-077669ab27fb"
      },
      "source": [
        "# Aula 2-2 - Semântica Básica de Python - Operadores\n",
        "\n",
        "[![Open In Colab](https://colab.research.google.com/assets/colab-badge.svg)](https://colab.research.google.com/github/caio-c-silva/aulas_python_2S2022/blob/main/notebooks_aulas/aula2-2.ipynb)\n"
      ]
    },
    {
      "cell_type": "markdown",
      "id": "3d4ae9d6-cb56-4482-aaa7-b79d9f989875",
      "metadata": {
        "tags": [],
        "id": "3d4ae9d6-cb56-4482-aaa7-b79d9f989875"
      },
      "source": [
        "## Revisão\n",
        "\n",
        "Escreva um script que execute as seguinte tarefas:\n",
        "\n",
        "- Crie uma variável chamada val1 e atribua o valor 12\n",
        "- Crie uma variável chamada val2 e atribua o valor 3.75\n",
        "- Crie uma variável chamada texto e atribua o valor `O valor da soma é:`\n",
        "- Imprima o tipo da variável val1\n",
        "- Imprima o tipo da variável val2\n",
        "- Imprima o tipo da variável texto\n",
        "- Crie uma variável chamada soma e atribua a soma de val1 e val2\n",
        "- Imprima o tipo da variável soma\n",
        "- Imprima a variável texto juntamente com a variável soma\n",
        "\n",
        "Comente todas as expressões"
      ]
    },
    {
      "cell_type": "code",
      "execution_count": 17,
      "id": "20142dab-0ce3-470c-9a73-f811a26bba12",
      "metadata": {
        "colab": {
          "base_uri": "https://localhost:8080/"
        },
        "id": "20142dab-0ce3-470c-9a73-f811a26bba12",
        "outputId": "f584ae4c-5d3e-4f57-a618-10f7d63d146e"
      },
      "outputs": [
        {
          "output_type": "stream",
          "name": "stdout",
          "text": [
            "<class 'int'>\n",
            "<class 'float'>\n",
            "<class 'str'>\n",
            "<class 'float'>\n",
            "O valor da soma é: 15.75\n"
          ]
        }
      ],
      "source": [
        "val1 = 12\n",
        "val2 = 3.75\n",
        "texto = \"O valor da soma é:\"\n",
        "print(type(val1))\n",
        "print(type(val2))\n",
        "print(type(texto))\n",
        "soma = val1 + val2\n",
        "print(type(soma))\n",
        "print(texto,soma)\n"
      ]
    },
    {
      "cell_type": "markdown",
      "id": "5584b991-8946-4e12-97cf-1f51b932ec63",
      "metadata": {
        "tags": [],
        "id": "5584b991-8946-4e12-97cf-1f51b932ec63"
      },
      "source": [
        "## Operadores\n",
        "\n",
        "Anteriormente vimos a semântica básica de Python no que diz respeito a variáveis e objetos. Nesta aula veremos a semântica dos operadores básicos existentes em Python.\n",
        "\n",
        "### Operadores Aritméticos\n",
        "\n",
        "| Operador     | Nome           | Descrição                                            |\n",
        "|--------------|----------------|--------------------------------------------------------|\n",
        "| ``a + b``    | Adição       | Soma de ``a`` e ``b``                                 |\n",
        "| ``a - b``    | Subtração    | Diferença de ``a`` e ``b``                          |\n",
        "| ``a * b``    | Multiplicação | Produto de ``a`` e ``b``                             |\n",
        "| ``a / b``    | Divisão Verdadeira  | Quociente de ``a`` e ``b``                            |\n",
        "| ``a // b``   | Divisão Piso | Quociente de ``a`` e ``b``, removendo a parte fracional |\n",
        "| ``a % b``    | Resto        | Resto inteiro da divisão de ``a`` por ``b``     |\n",
        "| ``a ** b``   | Exponenciação | ``a`` elevado à potencia de ``b``                     |\n",
        "\n",
        "Esses operadores podem ser usados e combinados de diversas formas usando parenteses para agrupar as operações.  \n"
      ]
    },
    {
      "cell_type": "code",
      "execution_count": 12,
      "id": "6e92027b-b5f2-4782-a5b3-629593d0fd46",
      "metadata": {
        "colab": {
          "base_uri": "https://localhost:8080/"
        },
        "id": "6e92027b-b5f2-4782-a5b3-629593d0fd46",
        "outputId": "b661207f-319d-4ffd-9b51-39a864ea8eab"
      },
      "outputs": [
        {
          "output_type": "execute_result",
          "data": {
            "text/plain": [
              "14.0"
            ]
          },
          "metadata": {},
          "execution_count": 12
        }
      ],
      "source": [
        "# adição, subtração, multiplicação e divisão (verdadeira)\n",
        "(4 + 8) * ((6.5 - 3)/3)"
      ]
    },
    {
      "cell_type": "code",
      "execution_count": 1,
      "id": "bb1b14e6-7699-4bdb-bfb0-36b652caf7a7",
      "metadata": {
        "colab": {
          "base_uri": "https://localhost:8080/"
        },
        "id": "bb1b14e6-7699-4bdb-bfb0-36b652caf7a7",
        "outputId": "708cdd35-be7b-4e76-d9fd-226639151616"
      },
      "outputs": [
        {
          "output_type": "execute_result",
          "data": {
            "text/plain": [
              "5.5"
            ]
          },
          "metadata": {},
          "execution_count": 1
        }
      ],
      "source": [
        "# Divisão Verdadeira\n",
        "11 / 2"
      ]
    },
    {
      "cell_type": "code",
      "execution_count": 2,
      "id": "639861b0-db91-4a52-971d-8d8fe755c71f",
      "metadata": {
        "colab": {
          "base_uri": "https://localhost:8080/"
        },
        "id": "639861b0-db91-4a52-971d-8d8fe755c71f",
        "outputId": "e20a49b6-3f98-4841-cc50-a3cffd4ce501"
      },
      "outputs": [
        {
          "output_type": "execute_result",
          "data": {
            "text/plain": [
              "5"
            ]
          },
          "metadata": {},
          "execution_count": 2
        }
      ],
      "source": [
        "# Divisão Piso\n",
        "11 // 2"
      ]
    },
    {
      "cell_type": "code",
      "execution_count": 13,
      "id": "497fb106-64a4-465b-bb9e-d86d12233124",
      "metadata": {
        "colab": {
          "base_uri": "https://localhost:8080/"
        },
        "id": "497fb106-64a4-465b-bb9e-d86d12233124",
        "outputId": "29e80b5f-0ec3-4755-8bd1-65eae97705d5"
      },
      "outputs": [
        {
          "output_type": "execute_result",
          "data": {
            "text/plain": [
              "1"
            ]
          },
          "metadata": {},
          "execution_count": 13
        }
      ],
      "source": [
        "# Divisão Piso - RESTO\n",
        "11 % 2"
      ]
    },
    {
      "cell_type": "markdown",
      "id": "0997d259-eb5a-4810-bbe8-7ba246c638bc",
      "metadata": {
        "tags": [],
        "id": "0997d259-eb5a-4810-bbe8-7ba246c638bc"
      },
      "source": [
        "### Exercício 1\n",
        "\n",
        "Escreva um programa que inicialize uma variável com o valor 32 para representar a temperatura em Celsius. Em seguida, converta esse valor em Fahrenheit usando a fórmula F = 1.8C + 32. \n",
        "\n",
        "Imprima o valor Fahrenheit."
      ]
    },
    {
      "cell_type": "code",
      "execution_count": 14,
      "id": "40fb3e17-b71e-4bdc-af67-2f4769cecf5e",
      "metadata": {
        "colab": {
          "base_uri": "https://localhost:8080/"
        },
        "id": "40fb3e17-b71e-4bdc-af67-2f4769cecf5e",
        "outputId": "9ea2c50d-a2c0-4595-a323-58efba516f25"
      },
      "outputs": [
        {
          "output_type": "stream",
          "name": "stdout",
          "text": [
            "89.6\n"
          ]
        }
      ],
      "source": [
        "celsius = 32 #cria variável e atribui o valor em Graus Celsius\n",
        "farenheit = celsius*1.8 + 32 #Cria a variável farenheit e atribui a ela o valor transformado usando a fórmula de Celsius para Farenheit\n",
        "print(farenheit) #Mostra o valor da variável farenheit"
      ]
    },
    {
      "cell_type": "markdown",
      "id": "80bbeed3-1996-4368-9884-44b8a670b126",
      "metadata": {
        "id": "80bbeed3-1996-4368-9884-44b8a670b126"
      },
      "source": [
        "### Exercício 2\n",
        "\n",
        "Escreveva um script que converta uma quantidade inteira de minutos em seu respectivo valor dado em horas e minutos.\n",
        "\n",
        "O resultado do seu script deve ser da seguinte forma:\n",
        "\n",
        "Horas: x\n",
        "\n",
        "Minutos: y\n",
        "\n",
        "Por exemplo, o resultado da conversão de 132 minutos deve ser:\n",
        "\n",
        "Horas: 2\n",
        "\n",
        "Minutos: 12\n",
        "\n",
        "Explore as duas formas de resolver esse problema."
      ]
    },
    {
      "cell_type": "code",
      "execution_count": 31,
      "id": "342779dd-170a-45fe-9ca0-539c7e91db5a",
      "metadata": {
        "colab": {
          "base_uri": "https://localhost:8080/"
        },
        "id": "342779dd-170a-45fe-9ca0-539c7e91db5a",
        "outputId": "1075be5c-d97e-496f-bdef-033fa1c68a98"
      },
      "outputs": [
        {
          "output_type": "stream",
          "name": "stdout",
          "text": [
            "Horas: 2\n",
            "Minutos: 12\n"
          ]
        }
      ],
      "source": [
        "minutos = 132\n",
        "horas = minutos // 60 #divide os minutos por 60 atribuindo o resultado inteiro dessa conta na variável horas\n",
        "minutos = minutos % 60 #pega o resto da divisão de cima e atribui a variável minutos\n",
        "print(\"Horas:\",horas) #imprime o valor de horas\n",
        "print(\"Minutos:\",minutos) #imprime o valor de minutos"
      ]
    },
    {
      "cell_type": "markdown",
      "id": "177af8f8-1280-4864-9b31-8c0bfdeabb27",
      "metadata": {
        "id": "177af8f8-1280-4864-9b31-8c0bfdeabb27"
      },
      "source": [
        "## Operações de Atribuição\n",
        "\n",
        "Nós já vimos que as variáveis podem ser atribuídas com o operador \"`=`\", e os valores armazenados para uso posterior. Por exemplo:"
      ]
    },
    {
      "cell_type": "code",
      "execution_count": 26,
      "id": "698ef19f-8458-4fcf-8efb-01ce0d633636",
      "metadata": {
        "colab": {
          "base_uri": "https://localhost:8080/"
        },
        "id": "698ef19f-8458-4fcf-8efb-01ce0d633636",
        "outputId": "a1194cac-c0cc-48dc-b75b-6ccdaee9d517"
      },
      "outputs": [
        {
          "output_type": "stream",
          "name": "stdout",
          "text": [
            "24\n"
          ]
        }
      ],
      "source": [
        "a = 24\n",
        "print(a)"
      ]
    },
    {
      "cell_type": "markdown",
      "id": "304cb862-91bd-4b5c-8111-2f7cdec8be36",
      "metadata": {
        "id": "304cb862-91bd-4b5c-8111-2f7cdec8be36"
      },
      "source": [
        "Podemos usar essas variáveis em expressões com qualquer um dos operadores mencionados anteriormente.\n",
        "Por exemplo, para adicionar 2 a variável `a` escrevemos:"
      ]
    },
    {
      "cell_type": "code",
      "execution_count": 27,
      "id": "fd1b342d-471c-449c-b685-41f85c1eeac5",
      "metadata": {
        "colab": {
          "base_uri": "https://localhost:8080/"
        },
        "id": "fd1b342d-471c-449c-b685-41f85c1eeac5",
        "outputId": "8fdb8466-6297-417f-bd21-3eaf38659234"
      },
      "outputs": [
        {
          "output_type": "execute_result",
          "data": {
            "text/plain": [
              "26"
            ]
          },
          "metadata": {},
          "execution_count": 27
        }
      ],
      "source": [
        "a + 2"
      ]
    },
    {
      "cell_type": "markdown",
      "id": "f8293a34-be6f-42e0-87d0-083d297c76fd",
      "metadata": {
        "id": "f8293a34-be6f-42e0-87d0-083d297c76fd"
      },
      "source": [
        "Podemos querer atualizar a variável `a` com este novo valor; neste caso, poderíamos combinar a adição e a atribuição e escrever `a = a + 2`.\n",
        "Como esse tipo de operação e atribuição combinadas é muito comum, Python inclui operadores de atualização integrados para todas as operações aritméticas:"
      ]
    },
    {
      "cell_type": "code",
      "execution_count": 28,
      "id": "929728fb-af46-48c7-8fa3-8c28171e3fb1",
      "metadata": {
        "colab": {
          "base_uri": "https://localhost:8080/"
        },
        "id": "929728fb-af46-48c7-8fa3-8c28171e3fb1",
        "outputId": "cac2e614-e456-4dd0-db68-51d6d9d72f64"
      },
      "outputs": [
        {
          "output_type": "stream",
          "name": "stdout",
          "text": [
            "26\n"
          ]
        }
      ],
      "source": [
        "a += 2  # equivalente a seguinte expressão: a = a + 2\n",
        "print(a)"
      ]
    },
    {
      "cell_type": "markdown",
      "id": "02c4b300-1756-420b-96e9-ca693bcd8b80",
      "metadata": {
        "id": "02c4b300-1756-420b-96e9-ca693bcd8b80"
      },
      "source": [
        "O operadores de atribuição combinadas são:\n",
        "\n",
        "| Operador     | Descrição                                 |\n",
        "|--------------|---------------------------------------------|\n",
        "| ``a += b``    | soma `b` ao valor atribuido à variável `a`        |\n",
        "| ``a -= b``|  subtrai `b` do valor atribuido à variável `a`      |\n",
        "| ``a *= b``    | multiplica por `b` o valor atribuido à variável `a`|\n",
        "| ``a /= b``   |  divide por `b` o valor atribuido à variável `a`  (divisão verdadeira)  |\n",
        "| ``a //= b``   |  divide por `b` o valor atribuido à variável `a`  (divisão piso)   |\n",
        "| ``a %= b``      |  divide por `b` o valor atribuido à variável `a` e retorna o resto da divisão |\n",
        "| ``a **= b``     |  eleva a potência `b` o valor atribuido à variável `a`  |"
      ]
    },
    {
      "cell_type": "markdown",
      "id": "727a3df8-877e-4092-ae43-30d16cc8d403",
      "metadata": {
        "id": "727a3df8-877e-4092-ae43-30d16cc8d403"
      },
      "source": [
        "Use os operadores acima para ganhar familiaridade."
      ]
    },
    {
      "cell_type": "code",
      "execution_count": 43,
      "id": "6b0d4318-b650-498f-a85f-695977ab23af",
      "metadata": {
        "colab": {
          "base_uri": "https://localhost:8080/"
        },
        "id": "6b0d4318-b650-498f-a85f-695977ab23af",
        "outputId": "272a0f43-ab74-458e-9d5d-b399037c047e"
      },
      "outputs": [
        {
          "output_type": "stream",
          "name": "stdout",
          "text": [
            "14\n",
            "10\n",
            "40\n",
            "10.0\n",
            "2.0\n",
            "2.0\n",
            "16.0\n"
          ]
        }
      ],
      "source": [
        "a = 10; b = 4\n",
        "a += b\n",
        "print(a)\n",
        "a -= b\n",
        "print(a)\n",
        "a *= b\n",
        "print(a)\n",
        "a /= b\n",
        "print(a)\n",
        "a //= b\n",
        "print(a)\n",
        "a %= b\n",
        "print(a)\n",
        "a **= b\n",
        "print(a)"
      ]
    },
    {
      "cell_type": "markdown",
      "id": "c8d73b86-15f9-43dc-a218-2659e0144b81",
      "metadata": {
        "id": "c8d73b86-15f9-43dc-a218-2659e0144b81"
      },
      "source": [
        "## Operações de Comparação\n",
        "\n",
        "Outro tipo de operação que pode ser muito útil é a comparação de valores diferentes.\n",
        "Para isso, Python implementa operadores de comparação padrão, que retornam valores booleanos `True` e `False`.\n",
        "As operações de comparação estão listadas na tabela a seguir:\n",
        "\n",
        "| Operação     | Descrição                       || Operação     | Descrição                          |\n",
        "|---------------|-----------------------------------||---------------|--------------------------------------|\n",
        "| ``a == b``    | ``a`` igual à ``b``              || ``a != b``    | ``a`` diferente de ``b``             |\n",
        "| ``a < b``     | ``a`` menor que ``b``             || ``a > b``     | ``a`` maior que ``b``             |\n",
        "| ``a <= b``    | ``a`` menor que ou igual à ``b`` || ``a >= b``    | ``a`` maior que ou igual à ``b`` |\n",
        "\n",
        "Esses operadores de comparação podem ser combinados com os operadores aritméticos para expressar um número ilimitado de testes para os números.\n",
        "Por exemplo, podemos verificar se um número é ímpar verificando se o resto da divisão por 2 é igual a 1:"
      ]
    },
    {
      "cell_type": "code",
      "execution_count": 44,
      "id": "642f24b2-02a4-464f-aefa-42199d441f86",
      "metadata": {
        "colab": {
          "base_uri": "https://localhost:8080/"
        },
        "id": "642f24b2-02a4-464f-aefa-42199d441f86",
        "outputId": "a2b9dcda-2b01-4511-9bef-aec458031b7c"
      },
      "outputs": [
        {
          "output_type": "execute_result",
          "data": {
            "text/plain": [
              "False"
            ]
          },
          "metadata": {},
          "execution_count": 44
        }
      ],
      "source": [
        "# verificar se um número é ímpar\n",
        "n = 32\n",
        "n % 2 == 1"
      ]
    },
    {
      "cell_type": "markdown",
      "id": "4b8c484a-41d3-4a59-992a-78f01ae83314",
      "metadata": {
        "id": "4b8c484a-41d3-4a59-992a-78f01ae83314"
      },
      "source": [
        "Podemos juntar várias comparações para verificar relacionamentos mais complicados:"
      ]
    },
    {
      "cell_type": "code",
      "execution_count": 45,
      "id": "059ff5ae-092b-45da-b143-36f8dc36e788",
      "metadata": {
        "colab": {
          "base_uri": "https://localhost:8080/"
        },
        "id": "059ff5ae-092b-45da-b143-36f8dc36e788",
        "outputId": "79c10cb7-40ae-4f3d-8f80-61140cf32fd4"
      },
      "outputs": [
        {
          "output_type": "execute_result",
          "data": {
            "text/plain": [
              "True"
            ]
          },
          "metadata": {},
          "execution_count": 45
        }
      ],
      "source": [
        "# verificar se x está entre 15 e 30\n",
        "x = 25\n",
        "15 < x < 30"
      ]
    },
    {
      "cell_type": "markdown",
      "id": "4363e82e-4063-4fe1-bc81-25df53c94b3a",
      "metadata": {
        "tags": [],
        "id": "4363e82e-4063-4fe1-bc81-25df53c94b3a"
      },
      "source": [
        "## Operadores Booleanos\n",
        "\n",
        "Ao trabalhar com valores booleanos, Python fornece operadores para combinar os valores usando os conceitos padrão de \"e\", \"ou\" e \"não\". Esses operadores são expressos usando as palavras ``and``, ``or`` e ``not``:"
      ]
    },
    {
      "cell_type": "code",
      "execution_count": 46,
      "id": "bed3f4d5-7b8f-4328-98bf-c795d82905b5",
      "metadata": {
        "colab": {
          "base_uri": "https://localhost:8080/"
        },
        "id": "bed3f4d5-7b8f-4328-98bf-c795d82905b5",
        "outputId": "8cb09d22-1de2-4cb7-cef0-d811a13edb06"
      },
      "outputs": [
        {
          "output_type": "execute_result",
          "data": {
            "text/plain": [
              "True"
            ]
          },
          "metadata": {},
          "execution_count": 46
        }
      ],
      "source": [
        "x = 4\n",
        "(x < 6) and (x > 2)"
      ]
    },
    {
      "cell_type": "code",
      "execution_count": 47,
      "id": "b7d87d87-97fd-4a20-a50a-f55cb6bbc8f9",
      "metadata": {
        "colab": {
          "base_uri": "https://localhost:8080/"
        },
        "id": "b7d87d87-97fd-4a20-a50a-f55cb6bbc8f9",
        "outputId": "7d685db8-9a74-4077-d6df-5e21587d7339"
      },
      "outputs": [
        {
          "output_type": "execute_result",
          "data": {
            "text/plain": [
              "True"
            ]
          },
          "metadata": {},
          "execution_count": 47
        }
      ],
      "source": [
        "(x > 10) or (x % 2 == 0)"
      ]
    },
    {
      "cell_type": "code",
      "execution_count": 48,
      "id": "b7793a5f-e119-47ef-af0d-085243574d2e",
      "metadata": {
        "colab": {
          "base_uri": "https://localhost:8080/"
        },
        "id": "b7793a5f-e119-47ef-af0d-085243574d2e",
        "outputId": "d780e9e3-7ff7-4236-a0b2-2d6fb57fe5dc"
      },
      "outputs": [
        {
          "output_type": "execute_result",
          "data": {
            "text/plain": [
              "False"
            ]
          },
          "metadata": {},
          "execution_count": 48
        }
      ],
      "source": [
        "not (x < 6)"
      ]
    },
    {
      "cell_type": "code",
      "execution_count": 56,
      "id": "4b00b0b4-3c8d-4d94-88aa-836d313d2195",
      "metadata": {
        "colab": {
          "base_uri": "https://localhost:8080/"
        },
        "id": "4b00b0b4-3c8d-4d94-88aa-836d313d2195",
        "outputId": "d278687d-9ba0-4448-afbb-189d563ba9eb"
      },
      "outputs": [
        {
          "output_type": "stream",
          "name": "stdout",
          "text": [
            "True\n"
          ]
        }
      ],
      "source": [
        "a = ((4 < 20) and (20 > 9**(0.5))) and (not (33//3 == 11) or ((21 - 2) % 2 == 1) )\n",
        "# chute =  # Você acha que o valor da expressão acima True ou False?\n",
        "# a == true\n",
        "print(a)"
      ]
    },
    {
      "cell_type": "markdown",
      "id": "2121876d-a99a-4454-84f1-1ef26e6b7b50",
      "metadata": {
        "id": "2121876d-a99a-4454-84f1-1ef26e6b7b50"
      },
      "source": [
        "Esses tipos de operações booleanas se tornarão extremamente úteis quando começarmos a discutir expressões de controle de fluxo, como condicionais e loops."
      ]
    },
    {
      "cell_type": "markdown",
      "id": "1ac34076-cf65-4914-83e1-261964724c24",
      "metadata": {
        "id": "1ac34076-cf65-4914-83e1-261964724c24"
      },
      "source": [
        "## Operadores de Identidade e Pertencimento\n",
        "\n",
        "Assim como `and`, `or` e `not`, Python também contém operadores para verificar identidade e pertencimento.\n",
        "Eles são os seguintes:\n",
        "\n",
        "| Operator      | Description                                       |\n",
        "|---------------|---------------------------------------------------|\n",
        "| ``a is b``    | True se ``a`` and ``b`` forem objetos identicos    |\n",
        "| ``a is not b``| True se ``a`` and ``b`` não forem objetos identicos |\n",
        "| ``a in b``    | True se ``a`` pertence a ``b``                |\n",
        "| ``a not in b``| True se ``a`` não pertence a ``b``            |"
      ]
    },
    {
      "cell_type": "markdown",
      "id": "84421025-6fa1-414f-8ee6-9c4b6f564bc7",
      "metadata": {
        "id": "84421025-6fa1-414f-8ee6-9c4b6f564bc7"
      },
      "source": [
        "Os operadores de identidade, \"`is`\" e \"`is not`\" verificam a *identidade do objeto*.\n",
        "A identidade do objeto é diferente da igualdade, como podemos ver aqui:"
      ]
    },
    {
      "cell_type": "code",
      "execution_count": 57,
      "id": "891c340a-6aad-4134-beec-385d0044c26b",
      "metadata": {
        "id": "891c340a-6aad-4134-beec-385d0044c26b"
      },
      "outputs": [],
      "source": [
        "a = [1, 2, 3]\n",
        "b = [1, 2, 3]"
      ]
    },
    {
      "cell_type": "code",
      "execution_count": 58,
      "id": "c7cbf91b-b7bb-45d7-937b-e0dd71c81257",
      "metadata": {
        "colab": {
          "base_uri": "https://localhost:8080/"
        },
        "id": "c7cbf91b-b7bb-45d7-937b-e0dd71c81257",
        "outputId": "ae52e104-9db7-4115-efec-321d61f027cd"
      },
      "outputs": [
        {
          "output_type": "execute_result",
          "data": {
            "text/plain": [
              "True"
            ]
          },
          "metadata": {},
          "execution_count": 58
        }
      ],
      "source": [
        "a == b"
      ]
    },
    {
      "cell_type": "code",
      "execution_count": 59,
      "id": "44731a3e-66f9-47bd-8974-79f61b74a40b",
      "metadata": {
        "colab": {
          "base_uri": "https://localhost:8080/"
        },
        "id": "44731a3e-66f9-47bd-8974-79f61b74a40b",
        "outputId": "aae9a160-4efe-4ab2-b1bf-137b37841d07"
      },
      "outputs": [
        {
          "output_type": "execute_result",
          "data": {
            "text/plain": [
              "False"
            ]
          },
          "metadata": {},
          "execution_count": 59
        }
      ],
      "source": [
        "a is b"
      ]
    },
    {
      "cell_type": "code",
      "execution_count": 60,
      "id": "54f328a9-7d8c-4e18-ba56-0faed5c3d1fc",
      "metadata": {
        "colab": {
          "base_uri": "https://localhost:8080/"
        },
        "id": "54f328a9-7d8c-4e18-ba56-0faed5c3d1fc",
        "outputId": "10a96a49-5903-4ffe-e4f0-d8dec63d97cb"
      },
      "outputs": [
        {
          "output_type": "execute_result",
          "data": {
            "text/plain": [
              "True"
            ]
          },
          "metadata": {},
          "execution_count": 60
        }
      ],
      "source": [
        "a is not b"
      ]
    },
    {
      "cell_type": "markdown",
      "id": "3c3dc6b9-eced-4f4c-a189-f5086d701cfc",
      "metadata": {
        "id": "3c3dc6b9-eced-4f4c-a189-f5086d701cfc"
      },
      "source": [
        "Essa relação é diferente para objetos imutáveis"
      ]
    },
    {
      "cell_type": "code",
      "execution_count": 61,
      "id": "38ebb386-8e1a-4a4c-ba5c-cdb11175e9cd",
      "metadata": {
        "id": "38ebb386-8e1a-4a4c-ba5c-cdb11175e9cd"
      },
      "outputs": [],
      "source": [
        "a = 5\n",
        "b = 5"
      ]
    },
    {
      "cell_type": "code",
      "execution_count": 62,
      "id": "8f17fc7b-210d-4a19-859c-36157639d783",
      "metadata": {
        "colab": {
          "base_uri": "https://localhost:8080/"
        },
        "id": "8f17fc7b-210d-4a19-859c-36157639d783",
        "outputId": "a2c19349-d1b7-4075-bfec-1e73bdafb433"
      },
      "outputs": [
        {
          "output_type": "execute_result",
          "data": {
            "text/plain": [
              "True"
            ]
          },
          "metadata": {},
          "execution_count": 62
        }
      ],
      "source": [
        "a is b"
      ]
    },
    {
      "cell_type": "code",
      "execution_count": 63,
      "id": "77abd08a-af77-466f-80bb-a7e86cb46c90",
      "metadata": {
        "tags": [],
        "colab": {
          "base_uri": "https://localhost:8080/"
        },
        "id": "77abd08a-af77-466f-80bb-a7e86cb46c90",
        "outputId": "d86c095e-4ee0-44d4-d897-f9b5170c2257"
      },
      "outputs": [
        {
          "output_type": "execute_result",
          "data": {
            "text/plain": [
              "False"
            ]
          },
          "metadata": {},
          "execution_count": 63
        }
      ],
      "source": [
        "a is not b"
      ]
    },
    {
      "cell_type": "markdown",
      "id": "9ec41ba1-81f4-4972-9452-f94fd791272f",
      "metadata": {
        "id": "9ec41ba1-81f4-4972-9452-f94fd791272f"
      },
      "source": [
        "Essa relação é diferente quando explicitamente duas variáveis apontam para o mesmo objeto"
      ]
    },
    {
      "cell_type": "code",
      "execution_count": 64,
      "id": "0fbcf61f-054b-4496-bc04-fb122124937f",
      "metadata": {
        "id": "0fbcf61f-054b-4496-bc04-fb122124937f"
      },
      "outputs": [],
      "source": [
        "a = [1, 2, 3]\n",
        "b = a"
      ]
    },
    {
      "cell_type": "code",
      "execution_count": 65,
      "id": "aa0161ab-f96e-4652-85f4-142500e493b5",
      "metadata": {
        "tags": [],
        "colab": {
          "base_uri": "https://localhost:8080/"
        },
        "id": "aa0161ab-f96e-4652-85f4-142500e493b5",
        "outputId": "66063fa6-c056-41c0-a9ae-1b86ee7488e3"
      },
      "outputs": [
        {
          "output_type": "execute_result",
          "data": {
            "text/plain": [
              "True"
            ]
          },
          "metadata": {},
          "execution_count": 65
        }
      ],
      "source": [
        "a is b"
      ]
    },
    {
      "cell_type": "code",
      "execution_count": 66,
      "id": "64ebc53a-3c78-4906-a5c7-cae358c50b22",
      "metadata": {
        "tags": [],
        "colab": {
          "base_uri": "https://localhost:8080/"
        },
        "id": "64ebc53a-3c78-4906-a5c7-cae358c50b22",
        "outputId": "f01271a8-c90d-4115-92ff-a7064d0bc7e5"
      },
      "outputs": [
        {
          "output_type": "execute_result",
          "data": {
            "text/plain": [
              "False"
            ]
          },
          "metadata": {},
          "execution_count": 66
        }
      ],
      "source": [
        "a is not b"
      ]
    },
    {
      "cell_type": "markdown",
      "id": "25e25b6d-2ec4-4f92-a978-2d942ceea035",
      "metadata": {
        "id": "25e25b6d-2ec4-4f92-a978-2d942ceea035"
      },
      "source": [
        "## Operadores de Pertencimento\n",
        "\n",
        "Os operadores de pertencimento verificam o pertencimento a objetos compostos.\n",
        "Assim, por exemplo, podemos escrever:"
      ]
    },
    {
      "cell_type": "code",
      "execution_count": 67,
      "id": "05c22ffd-1006-4382-8500-0188995e0a55",
      "metadata": {
        "colab": {
          "base_uri": "https://localhost:8080/"
        },
        "id": "05c22ffd-1006-4382-8500-0188995e0a55",
        "outputId": "f7e721b6-07a0-4c6d-9bd7-f6de6c1e414a"
      },
      "outputs": [
        {
          "output_type": "execute_result",
          "data": {
            "text/plain": [
              "True"
            ]
          },
          "metadata": {},
          "execution_count": 67
        }
      ],
      "source": [
        "1 in [1, 2, 3]"
      ]
    },
    {
      "cell_type": "code",
      "execution_count": 68,
      "id": "5fd06bba-9564-492a-87b6-93fe893a252a",
      "metadata": {
        "colab": {
          "base_uri": "https://localhost:8080/"
        },
        "id": "5fd06bba-9564-492a-87b6-93fe893a252a",
        "outputId": "daeb27e6-0326-4222-ec37-41d3b084f2c6"
      },
      "outputs": [
        {
          "output_type": "execute_result",
          "data": {
            "text/plain": [
              "False"
            ]
          },
          "metadata": {},
          "execution_count": 68
        }
      ],
      "source": [
        "2 not in [1, 2, 3]"
      ]
    },
    {
      "cell_type": "code",
      "execution_count": 70,
      "id": "83ce0bf4-a304-40a9-b802-36a3dbbdadd9",
      "metadata": {
        "colab": {
          "base_uri": "https://localhost:8080/"
        },
        "id": "83ce0bf4-a304-40a9-b802-36a3dbbdadd9",
        "outputId": "56eee133-f468-48d2-d5ca-f2a373ecd07d"
      },
      "outputs": [
        {
          "output_type": "execute_result",
          "data": {
            "text/plain": [
              "True"
            ]
          },
          "metadata": {},
          "execution_count": 70
        }
      ],
      "source": [
        "'a' in 'casa'"
      ]
    },
    {
      "cell_type": "code",
      "execution_count": 71,
      "id": "449230e5-b252-49c8-8941-8f3640be3837",
      "metadata": {
        "colab": {
          "base_uri": "https://localhost:8080/"
        },
        "id": "449230e5-b252-49c8-8941-8f3640be3837",
        "outputId": "7f33abfb-0c87-4390-b42f-38f4ba710c77"
      },
      "outputs": [
        {
          "output_type": "execute_result",
          "data": {
            "text/plain": [
              "True"
            ]
          },
          "metadata": {},
          "execution_count": 71
        }
      ],
      "source": [
        "'casa' in 'minha casa minha vida'"
      ]
    },
    {
      "cell_type": "markdown",
      "id": "cebb04be-f358-4511-b78f-968c8483e3ae",
      "metadata": {
        "id": "cebb04be-f358-4511-b78f-968c8483e3ae"
      },
      "source": [
        "## Referências\n",
        "\n",
        "1. A Whirlwind Tour of Python, O'Reilly Media, Jake VanderPlas (2016)"
      ]
    },
    {
      "cell_type": "markdown",
      "id": "e45c3375-4c6d-4b85-b9a4-89122ac66b6f",
      "metadata": {
        "id": "e45c3375-4c6d-4b85-b9a4-89122ac66b6f"
      },
      "source": [
        "<!--NAVIGATION-->\n",
        "| [Semântica Básica de Python](aula2-1.ipynb) | [Condicionais (parte 1)](aula3-1.ipynb) >"
      ]
    }
  ],
  "metadata": {
    "kernelspec": {
      "display_name": "Python 3 (ipykernel)",
      "language": "python",
      "name": "python3"
    },
    "language_info": {
      "codemirror_mode": {
        "name": "ipython",
        "version": 3
      },
      "file_extension": ".py",
      "mimetype": "text/x-python",
      "name": "python",
      "nbconvert_exporter": "python",
      "pygments_lexer": "ipython3",
      "version": "3.9.12"
    },
    "colab": {
      "name": "aula2-2.ipynb",
      "provenance": []
    }
  },
  "nbformat": 4,
  "nbformat_minor": 5
}