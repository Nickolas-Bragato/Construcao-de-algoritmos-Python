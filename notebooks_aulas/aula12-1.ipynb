{
  "cells": [
    {
      "cell_type": "markdown",
      "metadata": {
        "id": "view-in-github",
        "colab_type": "text"
      },
      "source": [
        "<a href=\"https://colab.research.google.com/github/nickolas2805/Construcao-de-algoritmos-Python/blob/main/notebooks_aulas/aula12-1.ipynb\" target=\"_parent\"><img src=\"https://colab.research.google.com/assets/colab-badge.svg\" alt=\"Open In Colab\"/></a>"
      ]
    },
    {
      "cell_type": "markdown",
      "id": "2db89758-c554-4644-86ae-7929a6023cf3",
      "metadata": {
        "tags": [],
        "id": "2db89758-c554-4644-86ae-7929a6023cf3"
      },
      "source": [
        "# Aula 12-1 - Função Recursiva\n",
        "\n",
        "[![Open In Colab](https://colab.research.google.com/assets/colab-badge.svg)](https://colab.research.google.com/github/caio-c-silva/aulas_python_2S2022/blob/main/notebooks_aulas/aula12-1.ipynb)\n"
      ]
    },
    {
      "cell_type": "markdown",
      "source": [
        "# Algoritmos\n",
        "\n",
        "\n",
        "1.   Algoritmos de busca\n",
        "> Busca Simples\n",
        ">> Estabelecemos um limite e vamos um a um olhando dentro desses limites até encontrar.\n",
        "\n",
        ">Precisão\n",
        ">> Estabelecemos primeiro a precisão e depois começamos a procurar\n",
        "\n",
        ">Busca Binária\n",
        "  Dividir as possibilidades ao meio testando se é maior ou menor que o valor buscado, porém só funciona com tentativas ordenadas\n"
      ],
      "metadata": {
        "id": "qwi6OKdKupfK"
      },
      "id": "qwi6OKdKupfK"
    },
    {
      "cell_type": "code",
      "source": [
        "def raiz_cubica(cubo):\n",
        "  for num in range(abs(cubo+1)):\n",
        "    if num**3 == abs(cubo):\n",
        "      if cubo<0:\n",
        "        print(\"A raiz cúbica é\", -num) \n",
        "        break\n",
        "      else:\n",
        "        print(\"A raiz cúbica é\", num)\n",
        "        break\n",
        "    elif num**3>abs(cubo):\n",
        "      if cubo<0:\n",
        "        print(\"Esse número não tem uma raiz perfeita, a raiz desse número se encontra entre \"+ str(-num+1) + \" e \"+ str(-num))\n",
        "        break\n",
        "      else:\n",
        "        print(\"Esse número não tem uma raiz perfeita, a raiz desse número se encontra entre\",num-1, \"e\",num)\n",
        "        break\n",
        "raiz_cubica(int(input()))"
      ],
      "metadata": {
        "id": "6TFbUxUUxMVb",
        "outputId": "7071e0ce-5251-440b-8063-5c074ed0ab95",
        "colab": {
          "base_uri": "https://localhost:8080/"
        }
      },
      "id": "6TFbUxUUxMVb",
      "execution_count": 25,
      "outputs": [
        {
          "output_type": "stream",
          "name": "stdout",
          "text": [
            "9\n",
            "Esse número não tem uma raiz perfeita, a raiz desse número se encontra entre 2 e 3\n"
          ]
        }
      ]
    },
    {
      "cell_type": "code",
      "source": [
        "def raiz_cubica2(cubo):\n",
        "  precisao = 0.01\n",
        "  chute = 0\n",
        "  step = 0.01\n",
        "  while abs(chute ** 3 - cubo) >= precisao and chute <= cubo:\n",
        "    chute += step\n",
        "  if chute > cubo:\n",
        "    print(\"Não é possível encontrar a raiz com esses parâmetros\")\n",
        "  else:\n",
        "    print(\"A raiz aproximada é: %.2f\" %(chute))\n",
        "\n",
        "raiz_cubica2(int(input()))\n"
      ],
      "metadata": {
        "id": "7M3rctWd2E3S",
        "outputId": "35a3bb79-6e4c-427b-bc77-99d29aa672e1",
        "colab": {
          "base_uri": "https://localhost:8080/"
        }
      },
      "id": "7M3rctWd2E3S",
      "execution_count": 41,
      "outputs": [
        {
          "output_type": "stream",
          "name": "stdout",
          "text": [
            "3\n",
            "Não é possível encontrar a raiz com esses parâmetros\n"
          ]
        }
      ]
    },
    {
      "cell_type": "markdown",
      "id": "ad28aedf-365a-4812-a9ab-f2279eb80e71",
      "metadata": {
        "id": "ad28aedf-365a-4812-a9ab-f2279eb80e71"
      },
      "source": [
        "# Matryoshka\n",
        "\n",
        "<img src=\"https://github.com/caio-c-silva/aulas_python_2S2022/blob/main/fig/matryoshka.jpg?raw=1\" alt=\"fishy\" class=\"bg-primary mb-1\" width=\"400px\">"
      ]
    },
    {
      "cell_type": "markdown",
      "id": "c7314271-2a1a-4824-a044-5809e66a894d",
      "metadata": {
        "id": "c7314271-2a1a-4824-a044-5809e66a894d"
      },
      "source": [
        "## Estrutura da Função Recursiva\n",
        "\n",
        "``` Python\n",
        "def func_recursiva(n):\n",
        "    .\n",
        "    .\n",
        "    .\n",
        "    return func_recursiva(n-1)\n",
        "```"
      ]
    },
    {
      "cell_type": "markdown",
      "id": "0736c9e3-0cd8-4fb2-8168-ccf18cdeaf11",
      "metadata": {
        "id": "0736c9e3-0cd8-4fb2-8168-ccf18cdeaf11"
      },
      "source": [
        "## Soma de n Números - Função Iterativa"
      ]
    },
    {
      "cell_type": "code",
      "execution_count": null,
      "id": "68685166-8deb-4fbe-a2ad-fbc492aed716",
      "metadata": {
        "id": "68685166-8deb-4fbe-a2ad-fbc492aed716"
      },
      "outputs": [],
      "source": [
        "def soma_n_iterativa(n):\n",
        "    soma = 0\n",
        "    for i in range(1, n+1):\n",
        "        soma += i\n",
        "    return soma"
      ]
    },
    {
      "cell_type": "code",
      "execution_count": null,
      "id": "0bc89b4d-f0f3-4523-9072-65877b876b03",
      "metadata": {
        "id": "0bc89b4d-f0f3-4523-9072-65877b876b03"
      },
      "outputs": [],
      "source": [
        "#%%time\n",
        "soma_n_iterativa(5)"
      ]
    },
    {
      "cell_type": "markdown",
      "id": "93e00952-5bfa-40f5-b540-f844ba1e6b57",
      "metadata": {
        "id": "93e00952-5bfa-40f5-b540-f844ba1e6b57"
      },
      "source": [
        "## Soma de n Números - Função Recursiva"
      ]
    },
    {
      "cell_type": "code",
      "execution_count": null,
      "id": "f0212e49-301a-4d1c-ac39-2d53fef393ba",
      "metadata": {
        "id": "f0212e49-301a-4d1c-ac39-2d53fef393ba"
      },
      "outputs": [],
      "source": [
        "def soma_n_recursiva(n):\n",
        "    if n == 1:\n",
        "        return 1\n",
        "    else:\n",
        "        return n + soma_n_recursiva(n-1)"
      ]
    },
    {
      "cell_type": "code",
      "execution_count": null,
      "id": "511d227c-8b3c-4583-a2ee-c48c54e5e1ea",
      "metadata": {
        "id": "511d227c-8b3c-4583-a2ee-c48c54e5e1ea"
      },
      "outputs": [],
      "source": [
        "#%%time\n",
        "soma_n_recursiva(5)"
      ]
    }
  ],
  "metadata": {
    "kernelspec": {
      "display_name": "Python 3 (ipykernel)",
      "language": "python",
      "name": "python3"
    },
    "language_info": {
      "codemirror_mode": {
        "name": "ipython",
        "version": 3
      },
      "file_extension": ".py",
      "mimetype": "text/x-python",
      "name": "python",
      "nbconvert_exporter": "python",
      "pygments_lexer": "ipython3",
      "version": "3.9.12"
    },
    "colab": {
      "provenance": [],
      "include_colab_link": true
    }
  },
  "nbformat": 4,
  "nbformat_minor": 5
}