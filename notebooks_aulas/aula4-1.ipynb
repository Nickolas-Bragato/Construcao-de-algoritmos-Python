{
  "cells": [
    {
      "cell_type": "markdown",
      "id": "2db89758-c554-4644-86ae-7929a6023cf3",
      "metadata": {
        "id": "2db89758-c554-4644-86ae-7929a6023cf3"
      },
      "source": [
        "# Aula 4-1 - Estruturas de Repetição\n",
        "\n",
        "[![Open In Colab](https://colab.research.google.com/assets/colab-badge.svg)](https://colab.research.google.com/github/caio-c-silva/aulas_python_2S2022/blob/main/notebooks_aulas/aula4-1.ipynb)\n"
      ]
    },
    {
      "cell_type": "markdown",
      "id": "0e43bc36-5363-4f58-9a5b-1d9772eeddf3",
      "metadata": {
        "id": "0e43bc36-5363-4f58-9a5b-1d9772eeddf3"
      },
      "source": [
        "## Atividades Repetitivas\n",
        "\n",
        "Resolução de ano novo: fazer 10 abdominais e 20 flexões todos os dias.\n",
        "\n",
        "<br/><br/>\n",
        "<img src=\"https://github.com/caio-c-silva/aulas_python_2S2022/blob/main/fig/flowchart4.png?raw=1\" style=\"margin:auto\"/>\n",
        "<br/><br/>"
      ]
    },
    {
      "cell_type": "markdown",
      "id": "78785912-4fc9-4227-b8f3-fba202630564",
      "metadata": {
        "id": "78785912-4fc9-4227-b8f3-fba202630564"
      },
      "source": [
        "## Repetições no programa\n",
        "\n",
        "### Exemplo 1\n",
        "\n",
        "Imagine que você precise fazer o seguinte cálculo:\n",
        "\n",
        "$$\\frac{{x^{0.5}} - 23}{{\\pi} - 0.81}$$\n",
        "\n",
        "Em Python:\n",
        "\n",
        "``` python\n",
        "((x**0.5) - 23) / (3.1415 - 0.81)\n",
        "```\n",
        "\n",
        "Agora imagine que você precise fazer esse cálculo para volores de x que vão de 0 até 200 e imprimir resultado:\n",
        "\n",
        "Em Python:\n",
        "\n",
        "``` python\n",
        "x = 0\n",
        "resultado = ((x**0.5) - 23) / (3.1415 - 0.81)\n",
        "print(resultado)\n",
        "x = 1\n",
        "resultado = ((x**0.5) - 23) / (3.1415 - 0.81)\n",
        "print(resultado)\n",
        "x = 2\n",
        "resultado = ((x**0.5) - 23) / (3.1415 - 0.81)\n",
        "print(resultado)\n",
        "x = 3\n",
        "resultado = ((x**0.5) - 23) / (3.1415 - 0.81)\n",
        "print(resultado)\n",
        ".\n",
        ".\n",
        ".\n",
        "x = 200\n",
        "resultado = ((x**0.5) - 23) / (3.1415 - 0.81)\n",
        "print(resultado)\n",
        "```\n",
        "\n",
        "### Exemplo 2\n",
        "\n",
        "Imagine que você tenha que a saudação \"Olá ____, seja muito bem vindo!\" para os seguintes 5 nomes: João, Maria, José, Laura, Marcos\n",
        "\n",
        "Em Python:\n",
        "\n",
        "``` python\n",
        "print('Olá João, seja muito bem vindo!')\n",
        "print('Olá Maria, seja muito bem vindo!')\n",
        "print('Olá José, seja muito bem vindo!')\n",
        "print('Olá Laura, seja muito bem vindo!')\n",
        "print('Olá Marcos, seja muito bem vindo!')\n",
        "```\n",
        "\n"
      ]
    },
    {
      "cell_type": "markdown",
      "id": "3bf2e665-c78b-4e55-8137-ad9b324f8892",
      "metadata": {
        "id": "3bf2e665-c78b-4e55-8137-ad9b324f8892"
      },
      "source": [
        "Em Python, a palavra-chave que informa como fazer um loop determinado número de vezes é `for`."
      ]
    },
    {
      "cell_type": "code",
      "execution_count": 2,
      "id": "67eba8e4-831c-43de-8d01-6feffff487c7",
      "metadata": {
        "colab": {
          "base_uri": "https://localhost:8080/"
        },
        "id": "67eba8e4-831c-43de-8d01-6feffff487c7",
        "outputId": "ce905011-c1e8-462c-df65-6daaa3fa1de5"
      },
      "outputs": [
        {
          "output_type": "stream",
          "name": "stdout",
          "text": [
            "0\n",
            "1\n",
            "2\n",
            "3\n",
            "4\n",
            "5\n"
          ]
        }
      ],
      "source": [
        "for x in range(6):\n",
        "    resultado = ((x**0.5) - 23) / (3.1415 - 0.81)\n",
        "    print(resultado)    "
      ]
    },
    {
      "cell_type": "markdown",
      "id": "ff61fe4b-a4bb-4636-8870-69306adae6a5",
      "metadata": {
        "id": "ff61fe4b-a4bb-4636-8870-69306adae6a5"
      },
      "source": [
        "A forma geral da estrutura de repetição `for` é:\n",
        "\n",
        "``` python\n",
        "for <variável do loop> in <valores>:\n",
        "    <faça alguma coisa >\n",
        "```"
      ]
    },
    {
      "cell_type": "markdown",
      "id": "9789a07e-5e18-4229-b0fd-a00b2a89933d",
      "metadata": {
        "id": "9789a07e-5e18-4229-b0fd-a00b2a89933d"
      },
      "source": [
        "Uma forma de criar uma sequência de valores em python é através da função `range()`. Assim, o resultado da função `range(n)` será:\n",
        "\n",
        "<br/><br/>\n",
        "<img src=\"https://github.com/caio-c-silva/aulas_python_2S2022/blob/main/fig/chart1.png?raw=1\" style=\"margin:auto\"/>\n",
        "<br/><br/>"
      ]
    },
    {
      "cell_type": "code",
      "execution_count": 3,
      "id": "9ef5a268-0252-495b-a4fe-8f6b24959b3d",
      "metadata": {
        "colab": {
          "base_uri": "https://localhost:8080/"
        },
        "id": "9ef5a268-0252-495b-a4fe-8f6b24959b3d",
        "outputId": "2a816357-d267-4995-8ca5-0eea9f0a90b2"
      },
      "outputs": [
        {
          "output_type": "execute_result",
          "data": {
            "text/plain": [
              "[0, 1, 2, 3, 4, 5]"
            ]
          },
          "metadata": {},
          "execution_count": 3
        }
      ],
      "source": [
        "list(range(6))"
      ]
    },
    {
      "cell_type": "code",
      "execution_count": 4,
      "id": "4984c89a-2cf0-4887-9561-fa59e28dc6ef",
      "metadata": {
        "colab": {
          "base_uri": "https://localhost:8080/"
        },
        "id": "4984c89a-2cf0-4887-9561-fa59e28dc6ef",
        "outputId": "2f3b47e3-5858-4ac9-b283-c0f776c0d59c"
      },
      "outputs": [
        {
          "output_type": "execute_result",
          "data": {
            "text/plain": [
              "[2, 3, 4, 5]"
            ]
          },
          "metadata": {},
          "execution_count": 4
        }
      ],
      "source": [
        "list(range(2, 6))"
      ]
    },
    {
      "cell_type": "code",
      "execution_count": 11,
      "id": "9c53dc44-39e2-4ea4-8c9b-784e1884a60d",
      "metadata": {
        "colab": {
          "base_uri": "https://localhost:8080/"
        },
        "id": "9c53dc44-39e2-4ea4-8c9b-784e1884a60d",
        "outputId": "380f8fde-2232-4765-fa35-87a73d4515bd"
      },
      "outputs": [
        {
          "output_type": "execute_result",
          "data": {
            "text/plain": [
              "[2, 4, 6, 8, 10]"
            ]
          },
          "metadata": {},
          "execution_count": 11
        }
      ],
      "source": [
        "list(range(2, 12, 2))"
      ]
    },
    {
      "cell_type": "markdown",
      "id": "f87cf91f-e649-460e-9e74-e70867830cf2",
      "metadata": {
        "id": "f87cf91f-e649-460e-9e74-e70867830cf2"
      },
      "source": [
        "A forma gerão da função `range()` é:\n",
        "\n",
        "``` python\n",
        "range(start, stop, step)\n",
        "```"
      ]
    },
    {
      "cell_type": "code",
      "execution_count": 13,
      "id": "2f84c154-531e-4703-9c89-e16c6d135a23",
      "metadata": {
        "id": "2f84c154-531e-4703-9c89-e16c6d135a23"
      },
      "outputs": [],
      "source": [
        "range?"
      ]
    },
    {
      "cell_type": "markdown",
      "id": "7b1c8d9c-9935-4882-8d1b-7a8bdda3d327",
      "metadata": {
        "id": "7b1c8d9c-9935-4882-8d1b-7a8bdda3d327"
      },
      "source": [
        "### Exercícios\n",
        "\n",
        "1 - Crie um programa que imprima a seguinte menságem: \"o quadrado de x é x2\", onde:\n",
        "\n",
        "$$x2 = x^2$$\n",
        "\n",
        "Rode esse programa para valores de x que vão de 0 até 10"
      ]
    },
    {
      "cell_type": "code",
      "execution_count": 22,
      "id": "2fe6e0be-a6ea-4d55-8cd4-f10b47eb96e1",
      "metadata": {
        "colab": {
          "base_uri": "https://localhost:8080/"
        },
        "id": "2fe6e0be-a6ea-4d55-8cd4-f10b47eb96e1",
        "outputId": "65a87bf8-1771-4dab-e156-a0ce1538c7e1"
      },
      "outputs": [
        {
          "output_type": "stream",
          "name": "stdout",
          "text": [
            "o quadrado de x é 0\n",
            "o quadrado de x é 1\n",
            "o quadrado de x é 4\n",
            "o quadrado de x é 9\n",
            "o quadrado de x é 16\n",
            "o quadrado de x é 25\n",
            "o quadrado de x é 36\n",
            "o quadrado de x é 49\n",
            "o quadrado de x é 64\n",
            "o quadrado de x é 81\n",
            "o quadrado de x é 100\n"
          ]
        }
      ],
      "source": [
        "for x in range(11):\n",
        "  print(\"o quadrado de x é %i\" %(x**2))"
      ]
    },
    {
      "cell_type": "markdown",
      "id": "29c1e62c-164a-467c-9ed6-23f217c0e97b",
      "metadata": {
        "id": "29c1e62c-164a-467c-9ed6-23f217c0e97b"
      },
      "source": [
        "2 - Crie um programa que calcule a raiz quadrada de todos os números pares entre 1 e 20 "
      ]
    },
    {
      "cell_type": "code",
      "execution_count": 26,
      "id": "62c2f810-fca1-4477-9ba2-71222e401c47",
      "metadata": {
        "colab": {
          "base_uri": "https://localhost:8080/"
        },
        "id": "62c2f810-fca1-4477-9ba2-71222e401c47",
        "outputId": "7544ad10-a43b-4fc7-be48-88e9a2c1e616"
      },
      "outputs": [
        {
          "output_type": "stream",
          "name": "stdout",
          "text": [
            "A raiz quadrada de 2 é 1.41\n",
            "A raiz quadrada de 4 é 2.00\n",
            "A raiz quadrada de 6 é 2.45\n",
            "A raiz quadrada de 8 é 2.83\n",
            "A raiz quadrada de 10 é 3.16\n",
            "A raiz quadrada de 12 é 3.46\n",
            "A raiz quadrada de 14 é 3.74\n",
            "A raiz quadrada de 16 é 4.00\n",
            "A raiz quadrada de 18 é 4.24\n"
          ]
        }
      ],
      "source": [
        "for x in range(2,20,2):\n",
        "  print(\"A raiz quadrada de %i\"%(x), \"é %.2f\" %(x**0.5))"
      ]
    },
    {
      "cell_type": "markdown",
      "id": "a3a289d8-7a88-4dbe-8887-a94ca84bb398",
      "metadata": {
        "id": "a3a289d8-7a88-4dbe-8887-a94ca84bb398"
      },
      "source": [
        "3 - Crie um programa que some todos os números na sequência de 1 até 100"
      ]
    },
    {
      "cell_type": "code",
      "execution_count": 50,
      "id": "af771f45-5b12-4a24-baf8-f63b477d1070",
      "metadata": {
        "colab": {
          "base_uri": "https://localhost:8080/"
        },
        "id": "af771f45-5b12-4a24-baf8-f63b477d1070",
        "outputId": "9bcecf9a-952b-4635-db35-ddae59cf1a56"
      },
      "outputs": [
        {
          "output_type": "stream",
          "name": "stdout",
          "text": [
            "0\n",
            "1\n",
            "3\n",
            "6\n",
            "10\n",
            "15\n",
            "21\n",
            "28\n",
            "36\n",
            "45\n",
            "55\n",
            "66\n",
            "78\n",
            "91\n",
            "105\n",
            "120\n",
            "136\n",
            "153\n",
            "171\n",
            "190\n",
            "210\n",
            "231\n",
            "253\n",
            "276\n",
            "300\n",
            "325\n",
            "351\n",
            "378\n",
            "406\n",
            "435\n",
            "465\n",
            "496\n",
            "528\n",
            "561\n",
            "595\n",
            "630\n",
            "666\n",
            "703\n",
            "741\n",
            "780\n",
            "820\n",
            "861\n",
            "903\n",
            "946\n",
            "990\n",
            "1035\n",
            "1081\n",
            "1128\n",
            "1176\n",
            "1225\n",
            "1275\n",
            "1326\n",
            "1378\n",
            "1431\n",
            "1485\n",
            "1540\n",
            "1596\n",
            "1653\n",
            "1711\n",
            "1770\n",
            "1830\n",
            "1891\n",
            "1953\n",
            "2016\n",
            "2080\n",
            "2145\n",
            "2211\n",
            "2278\n",
            "2346\n",
            "2415\n",
            "2485\n",
            "2556\n",
            "2628\n",
            "2701\n",
            "2775\n",
            "2850\n",
            "2926\n",
            "3003\n",
            "3081\n",
            "3160\n",
            "3240\n",
            "3321\n",
            "3403\n",
            "3486\n",
            "3570\n",
            "3655\n",
            "3741\n",
            "3828\n",
            "3916\n",
            "4005\n",
            "4095\n",
            "4186\n",
            "4278\n",
            "4371\n",
            "4465\n",
            "4560\n",
            "4656\n",
            "4753\n",
            "4851\n",
            "4950\n",
            "5050\n"
          ]
        }
      ],
      "source": [
        "y=0; x=0\n",
        "for y in range (101):\n",
        "  x += y\n",
        "  print(x)\n"
      ]
    },
    {
      "cell_type": "markdown",
      "id": "1802eb25-af64-4e59-b92e-e8951fafef04",
      "metadata": {
        "id": "1802eb25-af64-4e59-b92e-e8951fafef04"
      },
      "source": [
        "4 - Escreva um programa que itere sobre todos os números pares entre 1 e 100. Se o número também for divisível por 6, incremente um contador. No final do seu programa, imprima quantos números pares existem entre 1 e 100, e quantos são divisíveis por 6.\n",
        "\n",
        "> Bloco com recuo\n",
        "\n"
      ]
    },
    {
      "cell_type": "code",
      "execution_count": 56,
      "id": "cd8e4d53-fa3e-4116-9656-333d6d74f65a",
      "metadata": {
        "colab": {
          "base_uri": "https://localhost:8080/"
        },
        "id": "cd8e4d53-fa3e-4116-9656-333d6d74f65a",
        "outputId": "fae1b4cf-adbc-4230-d00d-18dfe9941c31"
      },
      "outputs": [
        {
          "output_type": "stream",
          "name": "stdout",
          "text": [
            "50 17\n"
          ]
        }
      ],
      "source": [
        "cont=0; contseis=0\n",
        "for x in range(0,100,2):\n",
        "  cont+=1\n",
        "  if x%6 == 0:\n",
        "    contseis+=1\n",
        "print(cont,contseis)"
      ]
    },
    {
      "cell_type": "markdown",
      "id": "bc71ae9d-16af-4829-8f9c-6d49e8f7e313",
      "metadata": {
        "id": "bc71ae9d-16af-4829-8f9c-6d49e8f7e313"
      },
      "source": [
        "## Referências\n",
        "\n",
        "1. Get Programming: Learn to Code With Python, Manning Publications, Ana Bell (2018)"
      ]
    },
    {
      "cell_type": "markdown",
      "id": "e3d4f24a-3914-4250-af44-72a1f162a314",
      "metadata": {
        "id": "e3d4f24a-3914-4250-af44-72a1f162a314"
      },
      "source": [
        "<!--NAVIGATION-->\n",
        "| [Condicionais (parte 2)](aula3-2.ipynb) | [Estruturas de Repetição (parte 2)](aula4-2.ipynb) >"
      ]
    }
  ],
  "metadata": {
    "kernelspec": {
      "display_name": "Python 3 (ipykernel)",
      "language": "python",
      "name": "python3"
    },
    "language_info": {
      "codemirror_mode": {
        "name": "ipython",
        "version": 3
      },
      "file_extension": ".py",
      "mimetype": "text/x-python",
      "name": "python",
      "nbconvert_exporter": "python",
      "pygments_lexer": "ipython3",
      "version": "3.9.12"
    },
    "colab": {
      "provenance": []
    }
  },
  "nbformat": 4,
  "nbformat_minor": 5
}