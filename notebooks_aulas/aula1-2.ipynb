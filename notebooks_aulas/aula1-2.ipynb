{
  "cells": [
    {
      "cell_type": "markdown",
      "metadata": {
        "id": "view-in-github",
        "colab_type": "text"
      },
      "source": [
        "<a href=\"https://colab.research.google.com/github/nickolas2805/construcao-de-algoritmos-phyton/blob/main/notebooks_aulas/aula1-2.ipynb\" target=\"_parent\"><img src=\"https://colab.research.google.com/assets/colab-badge.svg\" alt=\"Open In Colab\"/></a>"
      ]
    },
    {
      "cell_type": "markdown",
      "id": "09caf350-f5ad-48ff-8ebf-15c88e020a9f",
      "metadata": {
        "id": "09caf350-f5ad-48ff-8ebf-15c88e020a9f"
      },
      "source": [
        "# Aula 1-2 - Breve Introdução à Sintaxe Python\n",
        "\n",
        "[![Open In Colab](https://colab.research.google.com/assets/colab-badge.svg)](https://colab.research.google.com/github/caio-c-silva/aulas_python_2S2022/blob/main/notebooks_aulas/aula1-2.ipynb)\n",
        "\n"
      ]
    },
    {
      "cell_type": "markdown",
      "id": "b8d6c448-8644-414b-9299-100efad17bb6",
      "metadata": {
        "id": "b8d6c448-8644-414b-9299-100efad17bb6"
      },
      "source": [
        "## Sintaxe Python\n",
        "\n",
        "**_Sintaxe_** se refere a forma como uma linguagem está estruturada.\n",
        "\n",
        "Considere o seguinte código:\n"
      ]
    },
    {
      "cell_type": "code",
      "execution_count": null,
      "id": "ac01d30c-cb20-4d26-b357-387c6a76fcd6",
      "metadata": {
        "id": "ac01d30c-cb20-4d26-b357-387c6a76fcd6",
        "outputId": "ae44565f-48b5-4d62-8b6c-804d78d03f28"
      },
      "outputs": [
        {
          "name": "stdout",
          "output_type": "stream",
          "text": [
            "51321 é divisível por 3\n"
          ]
        }
      ],
      "source": [
        "# Declarar o valor do dividendo\n",
        "dividendo = 51321\n",
        "\n",
        "#Declarar o valor do divisor\n",
        "divisor = 3 \n",
        "\n",
        "# Testar se o valor do quociente é igual a zero e imprimir resultado\n",
        "if dividendo % divisor == 0:\n",
        "    print(f'{dividendo} é divisível por {divisor}')\n",
        "else:\n",
        "    print(f'{dividendo} não é divisível por {divisor}')"
      ]
    },
    {
      "cell_type": "markdown",
      "id": "25426ae0-8988-453f-8e01-d54bda1826f4",
      "metadata": {
        "id": "25426ae0-8988-453f-8e01-d54bda1826f4"
      },
      "source": [
        "Apesar da simplicidade do **_script_** acima, ele serve para mostrar diversos aspectos importantes da sintaxe Python.\n",
        "\n",
        "## Comentários são marcados por `#`\n",
        "\n",
        "A primeira linha do script contém a seguinte informação:\n",
        "\n",
        "``` python\n",
        "# Declarar o valor do dividendo\n",
        "```\n",
        "\n",
        "Comentários em Python são marcados pelo sinal `#` e tudo o que vem depois de desse sinal na linha é ignorado pelo interpretador.\n",
        "\n",
        "Comentários também podem ser feitos no final da linha como no exemplo a seguir: \n"
      ]
    },
    {
      "cell_type": "code",
      "execution_count": null,
      "id": "cacf511e-2a20-402b-b427-916596f82db9",
      "metadata": {
        "id": "cacf511e-2a20-402b-b427-916596f82db9",
        "outputId": "1b08dd94-0a45-4aaf-d56c-f00be828c925"
      },
      "outputs": [
        {
          "data": {
            "text/plain": [
              "8"
            ]
          },
          "execution_count": 32,
          "metadata": {},
          "output_type": "execute_result"
        }
      ],
      "source": [
        "5 + 3 # somar 5 + 3"
      ]
    },
    {
      "cell_type": "markdown",
      "id": "23781f7c-4b6e-45f8-9236-6907685018db",
      "metadata": {
        "id": "23781f7c-4b6e-45f8-9236-6907685018db"
      },
      "source": [
        "## Expressões são Encerradas com o Final da Linha\n",
        "\n",
        "A segunda linha do script contém a seguinte expressão:\n",
        "\n",
        "``` python\n",
        "dividendo = 51321\n",
        "```\n",
        "\n",
        "Essa expressão cria a `variável` dividendo e atribui o número `51321` a essa variável. Note que o final da linha marca o fim da expressão e não há a necessidade de nenhum marcado adicional (como, por exemplo, `;` na linguagem C).\n",
        "\n",
        "Em Python, uma expressão pode ser quebrada em mais de uma linha utilizado marcador `\\`, vejao  exemplo a seguir:"
      ]
    },
    {
      "cell_type": "code",
      "execution_count": null,
      "id": "26e4727a-3e64-4b57-bdd3-7a6ae6f0d963",
      "metadata": {
        "id": "26e4727a-3e64-4b57-bdd3-7a6ae6f0d963",
        "outputId": "1c7665d3-8b8a-49fe-c937-23a2c8b8557f"
      },
      "outputs": [
        {
          "name": "stdout",
          "output_type": "stream",
          "text": [
            "22\n"
          ]
        }
      ],
      "source": [
        "x = 2 + 6 + 10 + 7 \\\n",
        "    + 2 - 5\n",
        "\n",
        "print(x)"
      ]
    },
    {
      "cell_type": "markdown",
      "id": "94853a42-7c15-4782-8322-64b3f4f25c4f",
      "metadata": {
        "id": "94853a42-7c15-4782-8322-64b3f4f25c4f"
      },
      "source": [
        "As linha tambem pode ser quebrada sem a necessidade de um marcador se a expressão estiver agrupada dentro por `()`:"
      ]
    },
    {
      "cell_type": "code",
      "execution_count": null,
      "id": "1f52f66b-3934-4697-b434-dd18485b5a4e",
      "metadata": {
        "id": "1f52f66b-3934-4697-b434-dd18485b5a4e",
        "outputId": "bec16f7f-6e07-443b-902e-6a8859035ae9"
      },
      "outputs": [
        {
          "name": "stdout",
          "output_type": "stream",
          "text": [
            "22\n"
          ]
        }
      ],
      "source": [
        "x = (2 + 6 + 10 + 7 \n",
        "     + 2 - 5)\n",
        "\n",
        "print(x)"
      ]
    },
    {
      "cell_type": "markdown",
      "id": "1759b624-8591-4d7d-8c19-5ba8e8e8147c",
      "metadata": {
        "id": "1759b624-8591-4d7d-8c19-5ba8e8e8147c"
      },
      "source": [
        "O sinal `;` pode, eventualmente, ser usado para marcar o fim de uma expressão. Dessa forma é possível ter mais de uma expressão em uma mesma linha:"
      ]
    },
    {
      "cell_type": "code",
      "execution_count": null,
      "id": "aa4f36e7-4a54-45e9-9a39-80f2d07748cc",
      "metadata": {
        "id": "aa4f36e7-4a54-45e9-9a39-80f2d07748cc",
        "outputId": "c3e69eea-61ee-41b4-a732-c8cf99e79503"
      },
      "outputs": [
        {
          "name": "stdout",
          "output_type": "stream",
          "text": [
            "10\n",
            "20\n"
          ]
        }
      ],
      "source": [
        "x = 10; y =20\n",
        "print(x); print(y)"
      ]
    },
    {
      "cell_type": "markdown",
      "id": "0feb00c3-cee5-4756-b4e2-ac1d88d6f165",
      "metadata": {
        "id": "0feb00c3-cee5-4756-b4e2-ac1d88d6f165"
      },
      "source": [
        "O código exibe o mesmo resultado que o seguinte código:"
      ]
    },
    {
      "cell_type": "code",
      "execution_count": null,
      "id": "e7c413fc-5a61-463b-9ef0-d959b02c3859",
      "metadata": {
        "id": "e7c413fc-5a61-463b-9ef0-d959b02c3859",
        "outputId": "45a29702-ca1f-4e0d-ace8-6812c5ce54c3"
      },
      "outputs": [
        {
          "name": "stdout",
          "output_type": "stream",
          "text": [
            "10\n",
            "20\n"
          ]
        }
      ],
      "source": [
        "x = 10\n",
        "y =20\n",
        "print(x)\n",
        "print(y)"
      ]
    },
    {
      "cell_type": "markdown",
      "id": "8be81a60-0f13-4be3-9a07-11e4259b6ef6",
      "metadata": {
        "id": "8be81a60-0f13-4be3-9a07-11e4259b6ef6"
      },
      "source": [
        "## Indentação\n",
        "\n",
        "Em seguida temos o seguinte bloco de código:\n",
        "\n",
        "``` python\n",
        "if dividendo % divisor == 0:\n",
        "    print(f'{dividendo} é divisível por {divisor}')\n",
        "else:\n",
        "    print(f'{dividendo} não é divisível por {divisor}')\n",
        "```\n",
        "\n",
        "Em Python a indentação é obrigatória pois a mudança de indentação serve para definir a hierarquia dentre blocos de código.\n",
        "\n"
      ]
    },
    {
      "cell_type": "markdown",
      "id": "a12589b7-f26d-4b43-9d1f-df1b4ea57e11",
      "metadata": {
        "id": "a12589b7-f26d-4b43-9d1f-df1b4ea57e11"
      },
      "source": [
        "## PEP 8\n",
        "\n",
        "[PEP 8](https://peps.python.org/pep-0008/) é um guia de estilo para Python que define boas práticas para a escrita de códigos em Python."
      ]
    },
    {
      "cell_type": "markdown",
      "id": "80189f46-9bc8-475a-8c58-476ef683f3a9",
      "metadata": {
        "id": "80189f46-9bc8-475a-8c58-476ef683f3a9"
      },
      "source": [
        "## Referências\n",
        "\n",
        "1. A Whirlwind Tour of Python, O'Reilly Media, Jake VanderPlas (2016)\n",
        "2. [PEP 8](https://peps.python.org/pep-0008/)\n",
        "3. [PEP 8 (Português)](https://wiki.python.org.br/GuiaDeEstilo)"
      ]
    },
    {
      "cell_type": "markdown",
      "id": "8149628a-dd2c-4819-9aba-3729e613853b",
      "metadata": {
        "id": "8149628a-dd2c-4819-9aba-3729e613853b"
      },
      "source": [
        "<!--NAVIGATION-->\n",
        "| [IPython e Google Colab](aula0.ipynb) | [Semântica Básica de Python](aula2-1.ipynb) >"
      ]
    }
  ],
  "metadata": {
    "kernelspec": {
      "display_name": "Python 3 (ipykernel)",
      "language": "python",
      "name": "python3"
    },
    "language_info": {
      "codemirror_mode": {
        "name": "ipython",
        "version": 3
      },
      "file_extension": ".py",
      "mimetype": "text/x-python",
      "name": "python",
      "nbconvert_exporter": "python",
      "pygments_lexer": "ipython3",
      "version": "3.9.12"
    },
    "colab": {
      "name": "aula1-2.ipynb",
      "provenance": [],
      "include_colab_link": true
    }
  },
  "nbformat": 4,
  "nbformat_minor": 5
}