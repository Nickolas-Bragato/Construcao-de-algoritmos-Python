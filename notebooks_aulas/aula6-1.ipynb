{
  "cells": [
    {
      "cell_type": "markdown",
      "metadata": {
        "id": "view-in-github",
        "colab_type": "text"
      },
      "source": [
        "<a href=\"https://colab.research.google.com/github/nickolas2805/Construcao-de-algoritmos-Python/blob/main/notebooks_aulas/aula6-1.ipynb\" target=\"_parent\"><img src=\"https://colab.research.google.com/assets/colab-badge.svg\" alt=\"Open In Colab\"/></a>"
      ]
    },
    {
      "cell_type": "markdown",
      "id": "2db89758-c554-4644-86ae-7929a6023cf3",
      "metadata": {
        "id": "2db89758-c554-4644-86ae-7929a6023cf3"
      },
      "source": [
        "# Aula 6-1 - Estruturas de Repetição (parte 3)\n"
      ]
    },
    {
      "cell_type": "markdown",
      "id": "985bf2c8-6fcf-49a9-92a1-23e84b86e179",
      "metadata": {
        "tags": [],
        "id": "985bf2c8-6fcf-49a9-92a1-23e84b86e179"
      },
      "source": [
        "## Repetições baseadas em condições\n",
        "\n",
        "A estrutura de repetição `for` é amplamente utilizada quando conhecemos a quantidade de vezes que algo deve ser repetido. Porém, em diversas ocasiões, necessitamos repetir uma tarefa sem que saibamos a quantidade de repetições e fazemos isso baseado em uma condição.\n",
        "\n",
        "Para esse tipo de repetição, em Python, utilizamos a estrutura `while` (enquanto).\n",
        "\n",
        "``` python\n",
        "while <condição>:\n",
        "    <faça alguma coisa>\n",
        "```"
      ]
    },
    {
      "cell_type": "code",
      "execution_count": 1,
      "id": "0f62e250-6457-4368-aa54-6c937091f026",
      "metadata": {
        "id": "0f62e250-6457-4368-aa54-6c937091f026",
        "outputId": "ffde53f3-f462-4391-d924-103316955913",
        "colab": {
          "base_uri": "https://localhost:8080/"
        }
      },
      "outputs": [
        {
          "output_type": "stream",
          "name": "stdout",
          "text": [
            "Qual a forma geométrica que aparece na bandeira do estado de Minas Gerais?triângulo\n",
            "Parabéns!\n"
          ]
        }
      ],
      "source": [
        "reposta_certa = 'triângulo'\n",
        "resposta = ''\n",
        "\n",
        "while resposta != reposta_certa:\n",
        "    resposta = input('Qual a forma geométrica que aparece na bandeira do estado de Minas Gerais?')\n",
        "    if resposta == reposta_certa:\n",
        "        print('Parabéns!')\n",
        "    else:\n",
        "        print('Tente novamente')"
      ]
    },
    {
      "cell_type": "markdown",
      "id": "59cfe2f7-52e5-4a6f-a9bd-d0909fca6ffd",
      "metadata": {
        "id": "59cfe2f7-52e5-4a6f-a9bd-d0909fca6ffd"
      },
      "source": [
        "### Exercícios\n",
        "\n",
        "1. Crie um programa que pergunta ao usuário qual tabuada ele deseja ver (do 1 ao 9) e imprima a tabuada. Use a estrutura de repetição `while`."
      ]
    },
    {
      "cell_type": "code",
      "execution_count": null,
      "id": "59008860-c9c5-4a96-9299-a528b9001890",
      "metadata": {
        "id": "59008860-c9c5-4a96-9299-a528b9001890"
      },
      "outputs": [],
      "source": [
        "numero = 1\n",
        "\n",
        "while 1 <= numero <= 9:\n",
        "  print(\"\\n\\nDigite \\\"0\\\" para parar o programa\")\n",
        "  numero = int(input(\"ou digite o número para verificar sua tabuada: \"))\n",
        "  x = 1\n",
        "  while x <= 9 and numero != 0:\n",
        "    resultado = x * numero\n",
        "    print(x,\"*\", numero, \"=\", resultado)\n",
        "    x += 1\n",
        "print(\"\\n\\nPrograma finalizado!!!\")"
      ]
    },
    {
      "cell_type": "markdown",
      "id": "5b1652b1-9833-46f7-bda6-763cfe6fc71c",
      "metadata": {
        "id": "5b1652b1-9833-46f7-bda6-763cfe6fc71c"
      },
      "source": [
        "2. Crie um programa que execute o seguinte jogo: \n",
        "\n",
        "- Pergunte ao usuário: \"Qual é a capital do Brasil?\".\n",
        "- Se o usuário escrever Brasília o programa deve retornar a seguinte mensagem: \"Parabéns, Você acertou!\"\n",
        "- Se o usuário escrever qualquer outra cidade o programa deve retornar a seguinte mensagem: \"Você errou, tente novamente\".\n",
        "- Sempre que o usuário escrever \"desisto\", o programa deve retornar a seguinte mensagem: \"A capital do Brasil é Brasília, obrigado pela participação!\".\n",
        "- Na terceira tentativa, o programa deve retornar a seguinte mensagem: \"Essa já é sua terceira tentativa, quer desistir?\".\n",
        "    - Se o usuário escrever \"sim\" ou \"quero\", o programa deve retornar a seguinte mensagem: \"A capital do Brasil é Brasília, obrigado pela participação!\".\n",
        "    - Para qualquer outra resposta o jogo deve continuar\n",
        "- Na décima tentativa, o programa deve retornar a seguinte mensagem: \"Ok, já percebi que você não sabe a resposta. A capital do Brasil é Brasília\" ."
      ]
    },
    {
      "cell_type": "code",
      "execution_count": null,
      "id": "460a8670-ef1e-48e7-a88b-a51dbda2feea",
      "metadata": {
        "id": "460a8670-ef1e-48e7-a88b-a51dbda2feea"
      },
      "outputs": [],
      "source": []
    },
    {
      "cell_type": "markdown",
      "id": "bc71ae9d-16af-4829-8f9c-6d49e8f7e313",
      "metadata": {
        "id": "bc71ae9d-16af-4829-8f9c-6d49e8f7e313"
      },
      "source": [
        "## Referências\n",
        "\n",
        "1. Get Programming: Learn to Code With Python, Manning Publications, Ana Bell (2018)"
      ]
    },
    {
      "cell_type": "markdown",
      "id": "e3d4f24a-3914-4250-af44-72a1f162a314",
      "metadata": {
        "id": "e3d4f24a-3914-4250-af44-72a1f162a314"
      },
      "source": [
        "<!--NAVIGATION-->\n",
        "| [Estruturas de Repetição (parte 2)](aula4-2.ipynb) | [Strings e Tuples)](aula7-1.ipynb) >"
      ]
    }
  ],
  "metadata": {
    "kernelspec": {
      "display_name": "Python 3 (ipykernel)",
      "language": "python",
      "name": "python3"
    },
    "language_info": {
      "codemirror_mode": {
        "name": "ipython",
        "version": 3
      },
      "file_extension": ".py",
      "mimetype": "text/x-python",
      "name": "python",
      "nbconvert_exporter": "python",
      "pygments_lexer": "ipython3",
      "version": "3.9.12"
    },
    "colab": {
      "provenance": [],
      "include_colab_link": true
    }
  },
  "nbformat": 4,
  "nbformat_minor": 5
}